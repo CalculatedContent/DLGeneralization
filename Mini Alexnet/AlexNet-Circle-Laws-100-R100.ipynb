{
 "cells": [
  {
   "cell_type": "markdown",
   "metadata": {
    "ExecuteTime": {
     "end_time": "2018-01-13T05:27:28.561138Z",
     "start_time": "2018-01-13T05:27:28.557329Z"
    }
   },
   "source": [
    "\n",
    "### Marcenko-Pastur Law / Quarter Circle Law\n",
    "\n",
    "http://math.mit.edu/~edelman/publications/random_matrix_theory_innovative.pdf\n",
    "\n",
    "\n",
    "This time, I ensure W has norm 1\n"
   ]
  },
  {
   "cell_type": "code",
   "execution_count": 1,
   "metadata": {
    "ExecuteTime": {
     "end_time": "2018-02-01T23:58:51.047456Z",
     "start_time": "2018-02-01T23:58:49.190187Z"
    }
   },
   "outputs": [
    {
     "name": "stderr",
     "output_type": "stream",
     "text": [
      "/Users/charlesmartin14/anaconda3/lib/python3.6/importlib/_bootstrap.py:205: RuntimeWarning: compiletime version 3.5 of module 'tensorflow.python.framework.fast_tensor_util' does not match runtime version 3.6\n",
      "  return f(*args, **kwds)\n"
     ]
    },
    {
     "name": "stdout",
     "output_type": "stream",
     "text": [
      "0.19.1\n"
     ]
    }
   ],
   "source": [
    "import numpy as np\n",
    "import tensorflow as tf\n",
    "import pickle, time\n",
    "from copy import deepcopy\n",
    "from shutil import copy\n",
    "from tqdm import tqdm_notebook as tqdm\n",
    "\n",
    "import matplotlib\n",
    "import matplotlib.pyplot as plt\n",
    "%matplotlib inline\n",
    "\n",
    "import sklearn\n",
    "from sklearn.decomposition import TruncatedSVD\n",
    "from sklearn.random_projection import sparse_random_matrix\n",
    "print(sklearn.__version__)"
   ]
  },
  {
   "cell_type": "code",
   "execution_count": 2,
   "metadata": {
    "ExecuteTime": {
     "end_time": "2018-02-01T23:58:51.699382Z",
     "start_time": "2018-02-01T23:58:51.049140Z"
    }
   },
   "outputs": [
    {
     "name": "stderr",
     "output_type": "stream",
     "text": [
      "Using TensorFlow backend.\n"
     ]
    },
    {
     "name": "stdout",
     "output_type": "stream",
     "text": [
      "WARNING:tensorflow:From /Users/charlesmartin14/anaconda3/lib/python3.6/site-packages/tensorflow/python/ops/nn_impl.py:666: calling reduce_mean (from tensorflow.python.ops.math_ops) with keep_dims is deprecated and will be removed in a future version.\n",
      "Instructions for updating:\n",
      "keep_dims is deprecated, use keepdims instead\n",
      "WARNING:tensorflow:From /Users/charlesmartin14/anaconda3/lib/python3.6/site-packages/keras/backend/tensorflow_backend.py:1255: calling reduce_prod (from tensorflow.python.ops.math_ops) with keep_dims is deprecated and will be removed in a future version.\n",
      "Instructions for updating:\n",
      "keep_dims is deprecated, use keepdims instead\n"
     ]
    }
   ],
   "source": [
    "import numpy as np\n",
    "import tensorflow as tf\n",
    "from keras.models import Sequential\n",
    "from keras.layers import Dense, Flatten\n",
    "from keras.layers.convolutional import Conv2D, MaxPooling2D\n",
    "from keras.layers.normalization import BatchNormalization\n",
    "from keras.callbacks import TensorBoard, EarlyStopping\n",
    "from keras.optimizers import SGD\n",
    "from keras.initializers import Constant\n",
    "import keras.backend as K\n",
    "\n",
    "\n",
    "model = Sequential()\n",
    "model.add(Conv2D(96, (5, 5), input_shape=(28, 28, 3), kernel_initializer=\n",
    "                 'glorot_normal', bias_initializer=Constant(0.1), padding=\n",
    "                 'same', activation='relu')) \n",
    "model.add(MaxPooling2D((3, 3), padding='same'))\n",
    "model.add(BatchNormalization())\n",
    "model.add(Conv2D(256, (5, 5), kernel_initializer='glorot_normal',\n",
    "                 bias_initializer=Constant(0.1), padding='same',\n",
    "                 activation='relu')) \n",
    "model.add(MaxPooling2D((3, 3), padding='same'))\n",
    "model.add(BatchNormalization())\n",
    "model.add(Flatten())\n",
    "model.add(Dense(384, kernel_initializer='glorot_normal',\n",
    "                bias_initializer=Constant(0.1), activation='relu'))\n",
    "model.add(Dense(192, kernel_initializer='glorot_normal',\n",
    "                bias_initializer=Constant(0.1), activation='relu'))\n",
    "model.add(Dense(10, kernel_initializer='glorot_normal',\n",
    "                bias_initializer=Constant(0.1), activation='softmax'))\n",
    "\n",
    "\n",
    "\n",
    "sess = tf.InteractiveSession()\n",
    "sess.run(tf.global_variables_initializer())\n",
    "\n"
   ]
  },
  {
   "cell_type": "code",
   "execution_count": 3,
   "metadata": {
    "ExecuteTime": {
     "end_time": "2018-02-01T23:59:41.322893Z",
     "start_time": "2018-02-01T23:58:51.701237Z"
    }
   },
   "outputs": [
    {
     "name": "stdout",
     "output_type": "stream",
     "text": [
      "\n"
     ]
    }
   ],
   "source": [
    "all_singular_values = []\n",
    "all_0_vectors = []\n",
    "\n",
    "all_bleeding_vectors = []\n",
    "all_wigner_vectors = []\n",
    "\n",
    "with tqdm(total=75) as pbar:\n",
    "    for idx in range(1,76):\n",
    "        modelfile = \"weights/alexnet.b16.id{}.final.h5\".format(idx)\n",
    "        model.load_weights(modelfile)\n",
    "        W = model.layers[7].get_weights()[0]\n",
    "        n = 384\n",
    "        W = W / np.linalg.norm(W)\n",
    "        svd = TruncatedSVD(n_components=n-1, n_iter=7, random_state=10)\n",
    "        svd.fit(W) \n",
    "        sv = svd.singular_values_\n",
    "        all_singular_values.extend(sv)\n",
    "        all_0_vectors.append(svd.components_[0])\n",
    "        \n",
    "        for  val, vec in zip(sv, svd.components_):\n",
    "            if (val) > 0.07:\n",
    "                all_bleeding_vectors.append(vec)\n",
    "            else:\n",
    "                all_wigner_vectors.append(vec)\n",
    "            \n",
    "\n",
    "        pbar.update(1)\n"
   ]
  },
  {
   "cell_type": "code",
   "execution_count": 5,
   "metadata": {
    "ExecuteTime": {
     "end_time": "2018-02-02T00:00:35.400296Z",
     "start_time": "2018-02-02T00:00:35.038289Z"
    }
   },
   "outputs": [
    {
     "data": {
      "image/png": "[encoded data removed]",
      "text/plain": [
       "<matplotlib.figure.Figure at 0x124dc27b8>"
      ]
     },
     "metadata": {},
     "output_type": "display_data"
    }
   ],
   "source": [
    "plt.hist(all_singular_values, bins=100);\n",
    "plt.title(modelfile)\n",
    "plt.title('75 runs of Mini Alex Net, batch size 16')\n",
    "plt.show()\n"
   ]
  },
  {
   "cell_type": "code",
   "execution_count": 19,
   "metadata": {
    "ExecuteTime": {
     "end_time": "2018-02-02T00:06:48.575409Z",
     "start_time": "2018-02-02T00:06:00.579962Z"
    }
   },
   "outputs": [
    {
     "name": "stdout",
     "output_type": "stream",
     "text": [
      "\n"
     ]
    }
   ],
   "source": [
    "rand_singular_values = []\n",
    "rand_0_vectors = []\n",
    "\n",
    "rand_bleeding_vectors = []\n",
    "rand_wigner_vectors = []\n",
    "\n",
    "rand_bleeding_singular_values = []\n",
    "rand_wigner_singular_values = []\n",
    "\n",
    "with tqdm(total=75) as pbar:\n",
    "    for idx in range(1,76):\n",
    "        modelfile = \"weights/alexnet.b16.rand100.id{}.final.h5\".format(idx)\n",
    "        model.load_weights(modelfile)\n",
    "        W = model.layers[7].get_weights()[0]\n",
    "        n = 384\n",
    "        W = W / np.linalg.norm(W)\n",
    "        svd = TruncatedSVD(n_components=n-1, n_iter=7, random_state=10)\n",
    "        svd.fit(W) \n",
    "        sv = svd.singular_values_\n",
    "        rand_singular_values.extend(sv)\n",
    "        rand_0_vectors.append(svd.components_[0])\n",
    "        \n",
    "        for  val, vec in zip(sv, svd.components_):\n",
    "            if (val) > 0.068:\n",
    "                rand_bleeding_vectors.append(vec)\n",
    "                rand_bleeding_singular_values.append(val)\n",
    "\n",
    "            else:\n",
    "                rand_wigner_vectors.append(vec)\n",
    "                rand_wigner_singular_values.append(val)\n",
    "        pbar.update(1)"
   ]
  },
  {
   "cell_type": "code",
   "execution_count": 22,
   "metadata": {
    "ExecuteTime": {
     "end_time": "2018-02-02T00:09:40.056649Z",
     "start_time": "2018-02-02T00:09:39.662385Z"
    }
   },
   "outputs": [
    {
     "data": {
      "image/png": "[encoded data removed]",
      "text/plain": [
       "<matplotlib.figure.Figure at 0x128e8cf28>"
      ]
     },
     "metadata": {},
     "output_type": "display_data"
    }
   ],
   "source": [
    "plt.hist(rand_singular_values, bins=100);\n",
    "plt.title(modelfile)\n",
    "plt.title(\"75 runs of Mini Alex Net, random labels, batch size 16\")\n",
    "plt.show()"
   ]
  },
  {
   "cell_type": "code",
   "execution_count": 27,
   "metadata": {
    "ExecuteTime": {
     "end_time": "2018-02-02T00:10:23.320602Z",
     "start_time": "2018-02-02T00:10:23.316519Z"
    }
   },
   "outputs": [
    {
     "data": {
      "text/plain": [
       "(732, 28725, 27993)"
      ]
     },
     "execution_count": 27,
     "metadata": {},
     "output_type": "execute_result"
    }
   ],
   "source": [
    "len(rand_bleeding_singular_values), len(rand_singular_values), len(rand_wigner_singular_values)"
   ]
  },
  {
   "cell_type": "markdown",
   "metadata": {},
   "source": [
    "### Notice: the shape of the curve depends on the # of bins"
   ]
  },
  {
   "cell_type": "code",
   "execution_count": 35,
   "metadata": {
    "ExecuteTime": {
     "end_time": "2018-02-02T00:11:14.124919Z",
     "start_time": "2018-02-02T00:11:13.769187Z"
    },
    "scrolled": true
   },
   "outputs": [
    {
     "data": {
      "image/png": "[encoded data removed]",
      "text/plain": [
       "<matplotlib.figure.Figure at 0x12850ba58>"
      ]
     },
     "metadata": {},
     "output_type": "display_data"
    }
   ],
   "source": [
    "plt.hist(rand_bleeding_singular_values, bins=30, color='red');\n",
    "plt.hist(rand_wigner_singular_values, bins=100, color='blue', alpha=0.5);\n",
    "\n",
    "plt.title(modelfile)\n",
    "plt.title(\"Bleeding SVs, Mini Alex Net, random labels, batch size 16\")\n",
    "plt.show()"
   ]
  },
  {
   "cell_type": "code",
   "execution_count": 66,
   "metadata": {
    "ExecuteTime": {
     "end_time": "2018-02-02T00:52:23.509006Z",
     "start_time": "2018-02-02T00:52:23.505107Z"
    }
   },
   "outputs": [
    {
     "data": {
      "text/plain": [
       "732"
      ]
     },
     "execution_count": 66,
     "metadata": {},
     "output_type": "execute_result"
    }
   ],
   "source": [
    "len(rand_bleeding_singular_values)"
   ]
  },
  {
   "cell_type": "markdown",
   "metadata": {},
   "source": [
    "### 10 bins"
   ]
  },
  {
   "cell_type": "code",
   "execution_count": 65,
   "metadata": {
    "ExecuteTime": {
     "end_time": "2018-02-02T00:52:06.587132Z",
     "start_time": "2018-02-02T00:52:06.056118Z"
    }
   },
   "outputs": [
    {
     "data": {
      "image/png": "[encoded data removed]",
      "text/plain": [
       "<matplotlib.figure.Figure at 0x12badeb38>"
      ]
     },
     "metadata": {},
     "output_type": "display_data"
    }
   ],
   "source": [
    "plt.hist(rand_bleeding_singular_values, bins=10, color='red');\n",
    "plt.hist(rand_wigner_singular_values, bins=100, color='blue', alpha=0.5);\n",
    "\n",
    "plt.title(modelfile)\n",
    "plt.title(\"Bleeding SVs, Mini Alex Net, random labels, batch size 16\")\n",
    "plt.show()"
   ]
  },
  {
   "cell_type": "code",
   "execution_count": 37,
   "metadata": {
    "ExecuteTime": {
     "end_time": "2018-02-02T00:18:06.128312Z",
     "start_time": "2018-02-02T00:18:06.124416Z"
    }
   },
   "outputs": [
    {
     "data": {
      "text/plain": [
       "(28725, 28725)"
      ]
     },
     "execution_count": 37,
     "metadata": {},
     "output_type": "execute_result"
    }
   ],
   "source": [
    "len(all_singular_values), len(rand_singular_values)"
   ]
  },
  {
   "cell_type": "code",
   "execution_count": 38,
   "metadata": {
    "ExecuteTime": {
     "end_time": "2018-02-02T00:18:07.855138Z",
     "start_time": "2018-02-02T00:18:07.395414Z"
    }
   },
   "outputs": [
    {
     "data": {
      "image/png": "[encoded data removed]",
      "text/plain": [
       "<matplotlib.figure.Figure at 0x1253f9d68>"
      ]
     },
     "metadata": {},
     "output_type": "display_data"
    }
   ],
   "source": [
    "plt.hist(all_singular_values, bins=100, alpha=0.5);\n",
    "plt.hist(rand_singular_values, bins=100, alpha=0.5);\n",
    "plt.title('Compare 75 runs Mini Alex Net vs 75  runs w/random labels, batch size 16')\n",
    "plt.show()"
   ]
  },
  {
   "cell_type": "markdown",
   "metadata": {},
   "source": [
    "### Analysis of principle vectors in both normal and and  Rand 100"
   ]
  },
  {
   "cell_type": "code",
   "execution_count": 39,
   "metadata": {
    "ExecuteTime": {
     "end_time": "2018-02-02T00:19:18.355960Z",
     "start_time": "2018-02-02T00:19:18.041643Z"
    }
   },
   "outputs": [
    {
     "data": {
      "text/plain": [
       "<matplotlib.text.Text at 0x1271f2278>"
      ]
     },
     "execution_count": 39,
     "metadata": {},
     "output_type": "execute_result"
    },
    {
     "data": {
      "image/png": "[encoded data removed]",
      "text/plain": [
       "<matplotlib.figure.Figure at 0x1253f9c88>"
      ]
     },
     "metadata": {},
     "output_type": "display_data"
    }
   ],
   "source": [
    "vec_comps = []\n",
    "for vec in all_0_vectors:\n",
    "    vec_comps.extend(vec)\n",
    "plt.hist(vec_comps, bins=100);\n",
    "plt.title('distribution of components of principle vector')"
   ]
  },
  {
   "cell_type": "code",
   "execution_count": 40,
   "metadata": {
    "ExecuteTime": {
     "end_time": "2018-02-02T00:19:18.804213Z",
     "start_time": "2018-02-02T00:19:18.385098Z"
    }
   },
   "outputs": [
    {
     "data": {
      "text/plain": [
       "<matplotlib.text.Text at 0x125a8d390>"
      ]
     },
     "execution_count": 40,
     "metadata": {},
     "output_type": "execute_result"
    },
    {
     "data": {
      "image/png": "[encoded data removed]",
      "text/plain": [
       "<matplotlib.figure.Figure at 0x126af67f0>"
      ]
     },
     "metadata": {},
     "output_type": "display_data"
    }
   ],
   "source": [
    "rand_comps = []\n",
    "for vec in rand_0_vectors:\n",
    "    rand_comps.extend(vec)\n",
    "plt.hist(rand_comps, bins=100);\n",
    "plt.title('distribution of components of random p-vector')"
   ]
  },
  {
   "cell_type": "code",
   "execution_count": 41,
   "metadata": {
    "ExecuteTime": {
     "end_time": "2018-02-02T00:19:19.812452Z",
     "start_time": "2018-02-02T00:19:19.352434Z"
    }
   },
   "outputs": [
    {
     "data": {
      "image/png": "[encoded data removed]",
      "text/plain": [
       "<matplotlib.figure.Figure at 0x125461080>"
      ]
     },
     "metadata": {},
     "output_type": "display_data"
    }
   ],
   "source": [
    "plt.hist(rand_comps, bins=100, alpha=0.5);\n",
    "plt.hist(vec_comps, bins=100, alpha=0.5);\n"
   ]
  },
  {
   "cell_type": "markdown",
   "metadata": {},
   "source": [
    "### Norms"
   ]
  },
  {
   "cell_type": "code",
   "execution_count": 42,
   "metadata": {
    "ExecuteTime": {
     "end_time": "2018-02-02T00:19:20.380215Z",
     "start_time": "2018-02-02T00:19:20.368389Z"
    }
   },
   "outputs": [],
   "source": [
    "all_norm_ratios = []\n",
    "rand_norm_ratios = []\n",
    "\n",
    "for vec in all_0_vectors:\n",
    "    nr = np.linalg.norm(vec, ord=1) / np.linalg.norm(vec, ord=np.inf)\n",
    "    all_norm_ratios.append(nr)\n",
    "    \n",
    "for vec in rand_0_vectors:\n",
    "    nr = np.linalg.norm(vec, ord=1) / np.linalg.norm(vec, ord=np.inf)\n",
    "    rand_norm_ratios.append(nr)\n",
    "    "
   ]
  },
  {
   "cell_type": "markdown",
   "metadata": {},
   "source": [
    "https://arxiv.org/pdf/1401.5093.pdf"
   ]
  },
  {
   "cell_type": "markdown",
   "metadata": {},
   "source": [
    "### Compare Wigner circle to bleeding out (first 9)  eigenvectors"
   ]
  },
  {
   "cell_type": "code",
   "execution_count": 62,
   "metadata": {
    "ExecuteTime": {
     "end_time": "2018-02-02T00:36:48.520721Z",
     "start_time": "2018-02-02T00:36:48.516280Z"
    }
   },
   "outputs": [
    {
     "data": {
      "text/plain": [
       "[0.08107882,\n",
       " 0.080688827,\n",
       " 0.079592399,\n",
       " 0.077764325,\n",
       " 0.077402465,\n",
       " 0.07647226,\n",
       " 0.076432966,\n",
       " 0.075263351,\n",
       " 0.072653383,\n",
       " 0.067543633]"
      ]
     },
     "execution_count": 62,
     "metadata": {},
     "output_type": "execute_result"
    }
   ],
   "source": [
    "all_singular_values[0:10] "
   ]
  },
  {
   "cell_type": "code",
   "execution_count": 63,
   "metadata": {
    "ExecuteTime": {
     "end_time": "2018-02-02T00:36:52.280195Z",
     "start_time": "2018-02-02T00:36:52.276061Z"
    }
   },
   "outputs": [
    {
     "data": {
      "text/plain": [
       "[0.07489752,\n",
       " 0.073280185,\n",
       " 0.072954781,\n",
       " 0.072452798,\n",
       " 0.071417369,\n",
       " 0.071017064,\n",
       " 0.070041038,\n",
       " 0.069439299,\n",
       " 0.068921901,\n",
       " 0.068077862]"
      ]
     },
     "execution_count": 63,
     "metadata": {},
     "output_type": "execute_result"
    }
   ],
   "source": [
    "rand_singular_values[0:10]"
   ]
  },
  {
   "cell_type": "markdown",
   "metadata": {
    "ExecuteTime": {
     "end_time": "2018-01-27T06:42:45.455170Z",
     "start_time": "2018-01-27T06:42:45.451894Z"
    }
   },
   "source": [
    "### Plot singular value vs norm ratio"
   ]
  },
  {
   "cell_type": "code",
   "execution_count": 47,
   "metadata": {
    "ExecuteTime": {
     "end_time": "2018-02-02T00:19:45.745476Z",
     "start_time": "2018-02-02T00:19:45.303957Z"
    }
   },
   "outputs": [],
   "source": [
    "bleeding_norm_ratios = []\n",
    "wigner_norm_ratios = []\n",
    "for vec in all_bleeding_vectors:\n",
    "    nr = np.linalg.norm(vec, ord=1) / np.linalg.norm(vec, ord=np.inf)\n",
    "    bleeding_norm_ratios.append(nr)\n",
    "    \n",
    "for vec in all_wigner_vectors:\n",
    "    nr = np.linalg.norm(vec, ord=1) / np.linalg.norm(vec, ord=np.inf)\n",
    "    wigner_norm_ratios.append(nr)"
   ]
  },
  {
   "cell_type": "code",
   "execution_count": 48,
   "metadata": {
    "ExecuteTime": {
     "end_time": "2018-02-02T00:19:49.783729Z",
     "start_time": "2018-02-02T00:19:49.526780Z"
    }
   },
   "outputs": [
    {
     "data": {
      "text/plain": [
       "<matplotlib.text.Text at 0x126a9b198>"
      ]
     },
     "execution_count": 48,
     "metadata": {},
     "output_type": "execute_result"
    },
    {
     "data": {
      "image/png": "[encoded data removed]",
      "text/plain": [
       "<matplotlib.figure.Figure at 0x11f6c2cc0>"
      ]
     },
     "metadata": {},
     "output_type": "display_data"
    }
   ],
   "source": [
    "plt.hist(bleeding_norm_ratios, color='red', bins=75, alpha=0.5);\n",
    "\n",
    "plt.title('1 norm/ inf norm of all  *bleeding vecs')"
   ]
  },
  {
   "cell_type": "code",
   "execution_count": 49,
   "metadata": {
    "ExecuteTime": {
     "end_time": "2018-02-02T00:19:55.985122Z",
     "start_time": "2018-02-02T00:19:55.718738Z"
    }
   },
   "outputs": [
    {
     "data": {
      "text/plain": [
       "<matplotlib.text.Text at 0x1292f9940>"
      ]
     },
     "execution_count": 49,
     "metadata": {},
     "output_type": "execute_result"
    },
    {
     "data": {
      "image/png": "[encoded data removed]",
      "text/plain": [
       "<matplotlib.figure.Figure at 0x1253220f0>"
      ]
     },
     "metadata": {},
     "output_type": "display_data"
    }
   ],
   "source": [
    "plt.hist(wigner_norm_ratios, color='blue', bins=75, alpha=0.5);\n",
    "plt.title('1 norm/ inf norm of all  wigner vecs')"
   ]
  },
  {
   "cell_type": "code",
   "execution_count": 50,
   "metadata": {
    "ExecuteTime": {
     "end_time": "2018-02-02T00:19:56.283068Z",
     "start_time": "2018-02-02T00:19:56.277065Z"
    }
   },
   "outputs": [
    {
     "data": {
      "text/plain": [
       "(83.180328, 97.775131)"
      ]
     },
     "execution_count": 50,
     "metadata": {},
     "output_type": "execute_result"
    }
   ],
   "source": [
    "np.mean(bleeding_norm_ratios), np.mean(wigner_norm_ratios)"
   ]
  },
  {
   "cell_type": "code",
   "execution_count": 52,
   "metadata": {
    "ExecuteTime": {
     "end_time": "2018-02-02T00:20:03.260615Z",
     "start_time": "2018-02-02T00:20:02.887614Z"
    }
   },
   "outputs": [
    {
     "data": {
      "text/plain": [
       "<matplotlib.text.Text at 0x12912c390>"
      ]
     },
     "execution_count": 52,
     "metadata": {},
     "output_type": "execute_result"
    },
    {
     "data": {
      "image/png": "[encoded data removed]",
      "text/plain": [
       "<matplotlib.figure.Figure at 0x1290c8f28>"
      ]
     },
     "metadata": {},
     "output_type": "display_data"
    }
   ],
   "source": [
    "plt.hist(bleeding_norm_ratios, color='red', bins=75);\n",
    "plt.hist(wigner_norm_ratios, color='blue', bins=75, alpha=0.5);\n",
    "plt.title('1 norm/ inf norm of all  wigner vecs')"
   ]
  },
  {
   "cell_type": "markdown",
   "metadata": {
    "ExecuteTime": {
     "end_time": "2018-02-01T23:51:19.596380Z",
     "start_time": "2018-02-01T23:51:19.593926Z"
    }
   },
   "source": [
    "### Repeat for Random 100"
   ]
  },
  {
   "cell_type": "code",
   "execution_count": 53,
   "metadata": {
    "ExecuteTime": {
     "end_time": "2018-02-02T00:20:44.861913Z",
     "start_time": "2018-02-02T00:20:44.413735Z"
    }
   },
   "outputs": [],
   "source": [
    "rand_bleeding_norm_ratios = []\n",
    "rand_wigner_norm_ratios = []\n",
    "for vec in rand_bleeding_vectors:\n",
    "    nr = np.linalg.norm(vec, ord=1) / np.linalg.norm(vec, ord=np.inf)\n",
    "    rand_bleeding_norm_ratios.append(nr)\n",
    "    \n",
    "for vec in rand_wigner_vectors:\n",
    "    nr = np.linalg.norm(vec, ord=1) / np.linalg.norm(vec, ord=np.inf)\n",
    "    rand_wigner_norm_ratios.append(nr)"
   ]
  },
  {
   "cell_type": "code",
   "execution_count": 54,
   "metadata": {
    "ExecuteTime": {
     "end_time": "2018-02-02T00:21:09.447255Z",
     "start_time": "2018-02-02T00:21:09.062314Z"
    }
   },
   "outputs": [
    {
     "data": {
      "text/plain": [
       "<matplotlib.text.Text at 0x12ab2bba8>"
      ]
     },
     "execution_count": 54,
     "metadata": {},
     "output_type": "execute_result"
    },
    {
     "data": {
      "image/png": "[encoded data removed]",
      "text/plain": [
       "<matplotlib.figure.Figure at 0x1291c3710>"
      ]
     },
     "metadata": {},
     "output_type": "display_data"
    }
   ],
   "source": [
    "plt.hist(rand_bleeding_norm_ratios, color='red', bins=75);\n",
    "plt.hist(rand_wigner_norm_ratios, color='blue', bins=75, alpha=0.5);\n",
    "plt.title('1 norm/ inf norm of all  wigner vecs, rand100')"
   ]
  },
  {
   "cell_type": "markdown",
   "metadata": {},
   "source": [
    "### Comparison of bledding out / shelf vectors rand 100 vs normal \n",
    "\n",
    "### NO DIFFERENCE "
   ]
  },
  {
   "cell_type": "code",
   "execution_count": 57,
   "metadata": {
    "ExecuteTime": {
     "end_time": "2018-02-02T00:22:16.999436Z",
     "start_time": "2018-02-02T00:22:16.610375Z"
    }
   },
   "outputs": [
    {
     "data": {
      "text/plain": [
       "<matplotlib.text.Text at 0x12b6485c0>"
      ]
     },
     "execution_count": 57,
     "metadata": {},
     "output_type": "execute_result"
    },
    {
     "data": {
      "image/png": "[encoded data removed]",
      "text/plain": [
       "<matplotlib.figure.Figure at 0x12b2a3be0>"
      ]
     },
     "metadata": {},
     "output_type": "display_data"
    }
   ],
   "source": [
    "plt.hist(rand_bleeding_norm_ratios, color='red', bins=75, alpha=0.5);\n",
    "plt.hist(bleeding_norm_ratios, color='orange', bins=75, alpha=0.5);\n",
    "plt.title('1 norm/ inf norm of all  wigner vecs, rand100')"
   ]
  },
  {
   "cell_type": "code",
   "execution_count": 72,
   "metadata": {
    "ExecuteTime": {
     "end_time": "2018-02-02T00:53:46.532399Z",
     "start_time": "2018-02-02T00:53:46.141470Z"
    }
   },
   "outputs": [
    {
     "data": {
      "image/png": "[encoded data removed]",
      "text/plain": [
       "<matplotlib.figure.Figure at 0x12cbb5f60>"
      ]
     },
     "metadata": {},
     "output_type": "display_data"
    }
   ],
   "source": [
    "plt.hist(wigner_norm_ratios, color='blue', bins=75, alpha=0.5);\n",
    "plt.hist(rand_wigner_norm_ratios, color='red', bins=75, alpha=0.5);\n"
   ]
  },
  {
   "cell_type": "code",
   "execution_count": 73,
   "metadata": {
    "ExecuteTime": {
     "end_time": "2018-02-02T02:32:38.452148Z",
     "start_time": "2018-02-02T02:32:38.447704Z"
    }
   },
   "outputs": [
    {
     "data": {
      "text/plain": [
       "732"
      ]
     },
     "execution_count": 73,
     "metadata": {},
     "output_type": "execute_result"
    }
   ],
   "source": [
    "len(rand_bleeding_norm_ratios)"
   ]
  },
  {
   "cell_type": "code",
   "execution_count": 74,
   "metadata": {
    "ExecuteTime": {
     "end_time": "2018-02-02T02:32:43.874337Z",
     "start_time": "2018-02-02T02:32:43.870683Z"
    }
   },
   "outputs": [
    {
     "data": {
      "text/plain": [
       "675"
      ]
     },
     "execution_count": 74,
     "metadata": {},
     "output_type": "execute_result"
    }
   ],
   "source": [
    "len(bleeding_norm_ratios)"
   ]
  },
  {
   "cell_type": "code",
   "execution_count": null,
   "metadata": {},
   "outputs": [],
   "source": []
  }
 ],
 "metadata": {
  "kernelspec": {
   "display_name": "Python 3",
   "language": "python",
   "name": "python3"
  },
  "language_info": {
   "codemirror_mode": {
    "name": "ipython",
    "version": 3
   },
   "file_extension": ".py",
   "mimetype": "text/x-python",
   "name": "python",
   "nbconvert_exporter": "python",
   "pygments_lexer": "ipython3",
   "version": "3.6.0"
  },
  "widgets": {
   "state": {
    "181facc5bd37404a96bce424b2e9dafa": {
     "views": [
      {
       "cell_index": 5
      }
     ]
    },
    "d5f8aedfeb2142e1a2622d4354f61ead": {
     "views": [
      {
       "cell_index": 3
      }
     ]
    }
   },
   "version": "1.2.0"
  }
 },
 "nbformat": 4,
 "nbformat_minor": 2
}
