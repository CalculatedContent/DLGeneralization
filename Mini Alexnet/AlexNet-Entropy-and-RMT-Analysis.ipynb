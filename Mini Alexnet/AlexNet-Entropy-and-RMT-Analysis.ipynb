{
 "cells": [
  {
   "cell_type": "markdown",
   "metadata": {
    "ExecuteTime": {
     "end_time": "2018-01-13T05:27:28.561138Z",
     "start_time": "2018-01-13T05:27:28.557329Z"
    }
   },
   "source": [
    "\n",
    "### Alex Net Entropy and Marcenko-Pastur Law\n",
    "\n",
    "http://math.mit.edu/~edelman/publications/random_matrix_theory_innovative.pdf\n",
    "\n",
    "\n",
    "\n",
    "This time, I ensure W has norm 1\n"
   ]
  },
  {
   "cell_type": "code",
   "execution_count": 2,
   "metadata": {
    "ExecuteTime": {
     "end_time": "2018-02-19T00:33:23.841787Z",
     "start_time": "2018-02-19T00:33:21.397355Z"
    }
   },
   "outputs": [
    {
     "name": "stderr",
     "output_type": "stream",
     "text": [
      "/Users/charlesmartin14/anaconda3/lib/python3.6/importlib/_bootstrap.py:205: RuntimeWarning: compiletime version 3.5 of module 'tensorflow.python.framework.fast_tensor_util' does not match runtime version 3.6\n",
      "  return f(*args, **kwds)\n",
      "/Users/charlesmartin14/.local/lib/python3.6/site-packages/h5py/__init__.py:34: FutureWarning: Conversion of the second argument of issubdtype from `float` to `np.floating` is deprecated. In future, it will be treated as `np.float64 == np.dtype(float).type`.\n",
      "  from ._conv import register_converters as _register_converters\n"
     ]
    },
    {
     "name": "stdout",
     "output_type": "stream",
     "text": [
      "0.19.1\n"
     ]
    }
   ],
   "source": [
    "import numpy as np\n",
    "import tensorflow as tf\n",
    "import pickle, time\n",
    "from copy import deepcopy\n",
    "from shutil import copy\n",
    "from tqdm import tqdm_notebook as tqdm\n",
    "import pandas as pd\n",
    "\n",
    "import matplotlib\n",
    "import matplotlib.pyplot as plt\n",
    "%matplotlib inline\n",
    "\n",
    "import sklearn\n",
    "from sklearn.decomposition import TruncatedSVD\n",
    "from sklearn.random_projection import sparse_random_matrix\n",
    "print(sklearn.__version__)"
   ]
  },
  {
   "cell_type": "code",
   "execution_count": 3,
   "metadata": {
    "ExecuteTime": {
     "end_time": "2018-02-19T00:33:24.387049Z",
     "start_time": "2018-02-19T00:33:23.843720Z"
    }
   },
   "outputs": [
    {
     "name": "stderr",
     "output_type": "stream",
     "text": [
      "Using TensorFlow backend.\n"
     ]
    },
    {
     "name": "stdout",
     "output_type": "stream",
     "text": [
      "WARNING:tensorflow:From /Users/charlesmartin14/anaconda3/lib/python3.6/site-packages/tensorflow/python/ops/nn_impl.py:666: calling reduce_mean (from tensorflow.python.ops.math_ops) with keep_dims is deprecated and will be removed in a future version.\n",
      "Instructions for updating:\n",
      "keep_dims is deprecated, use keepdims instead\n",
      "WARNING:tensorflow:From /Users/charlesmartin14/anaconda3/lib/python3.6/site-packages/keras/backend/tensorflow_backend.py:1255: calling reduce_prod (from tensorflow.python.ops.math_ops) with keep_dims is deprecated and will be removed in a future version.\n",
      "Instructions for updating:\n",
      "keep_dims is deprecated, use keepdims instead\n"
     ]
    }
   ],
   "source": [
    "import numpy as np\n",
    "import tensorflow as tf\n",
    "from keras.models import Sequential\n",
    "from keras.layers import Dense, Flatten\n",
    "from keras.layers.convolutional import Conv2D, MaxPooling2D\n",
    "from keras.layers.normalization import BatchNormalization\n",
    "from keras.callbacks import TensorBoard, EarlyStopping\n",
    "from keras.optimizers import SGD\n",
    "from keras.initializers import Constant\n",
    "import keras.backend as K\n",
    "\n",
    "\n",
    "model = Sequential()\n",
    "model.add(Conv2D(96, (5, 5), input_shape=(28, 28, 3), kernel_initializer=\n",
    "                 'glorot_normal', bias_initializer=Constant(0.1), padding=\n",
    "                 'same', activation='relu')) \n",
    "model.add(MaxPooling2D((3, 3), padding='same'))\n",
    "model.add(BatchNormalization())\n",
    "model.add(Conv2D(256, (5, 5), kernel_initializer='glorot_normal',\n",
    "                 bias_initializer=Constant(0.1), padding='same',\n",
    "                 activation='relu')) \n",
    "model.add(MaxPooling2D((3, 3), padding='same'))\n",
    "model.add(BatchNormalization())\n",
    "model.add(Flatten())\n",
    "model.add(Dense(384, kernel_initializer='glorot_normal',\n",
    "                bias_initializer=Constant(0.1), activation='relu'))\n",
    "model.add(Dense(192, kernel_initializer='glorot_normal',\n",
    "                bias_initializer=Constant(0.1), activation='relu'))\n",
    "model.add(Dense(10, kernel_initializer='glorot_normal',\n",
    "                bias_initializer=Constant(0.1), activation='softmax'))\n",
    "\n",
    "\n",
    "\n",
    "sess = tf.InteractiveSession()\n",
    "sess.run(tf.global_variables_initializer())\n",
    "\n"
   ]
  },
  {
   "cell_type": "code",
   "execution_count": null,
   "metadata": {
    "ExecuteTime": {
     "end_time": "2018-02-15T18:23:24.245919Z",
     "start_time": "2018-02-15T18:23:24.122317Z"
    }
   },
   "outputs": [],
   "source": []
  },
  {
   "cell_type": "markdown",
   "metadata": {},
   "source": [
    "### Show how to load the weight matrices\n",
    "\n",
    "#### We care about layers 7 and 8"
   ]
  },
  {
   "cell_type": "code",
   "execution_count": 4,
   "metadata": {
    "ExecuteTime": {
     "end_time": "2018-02-19T00:33:24.508643Z",
     "start_time": "2018-02-19T00:33:24.388805Z"
    }
   },
   "outputs": [
    {
     "name": "stdout",
     "output_type": "stream",
     "text": [
      "weights/cifar10_alexnet.h5\r\n"
     ]
    }
   ],
   "source": [
    "!ls weights/cifar10_alexnet.h5"
   ]
  },
  {
   "cell_type": "code",
   "execution_count": 5,
   "metadata": {
    "ExecuteTime": {
     "end_time": "2018-02-19T00:33:24.651305Z",
     "start_time": "2018-02-19T00:33:24.511187Z"
    }
   },
   "outputs": [
    {
     "name": "stdout",
     "output_type": "stream",
     "text": [
      "_________________________________________________________________\n",
      "Layer (type)                 Output Shape              Param #   \n",
      "=================================================================\n",
      "conv2d_1 (Conv2D)            (None, 28, 28, 96)        7296      \n",
      "_________________________________________________________________\n",
      "max_pooling2d_1 (MaxPooling2 (None, 10, 10, 96)        0         \n",
      "_________________________________________________________________\n",
      "batch_normalization_1 (Batch (None, 10, 10, 96)        384       \n",
      "_________________________________________________________________\n",
      "conv2d_2 (Conv2D)            (None, 10, 10, 256)       614656    \n",
      "_________________________________________________________________\n",
      "max_pooling2d_2 (MaxPooling2 (None, 4, 4, 256)         0         \n",
      "_________________________________________________________________\n",
      "batch_normalization_2 (Batch (None, 4, 4, 256)         1024      \n",
      "_________________________________________________________________\n",
      "flatten_1 (Flatten)          (None, 4096)              0         \n",
      "_________________________________________________________________\n",
      "dense_1 (Dense)              (None, 384)               1573248   \n",
      "_________________________________________________________________\n",
      "dense_2 (Dense)              (None, 192)               73920     \n",
      "_________________________________________________________________\n",
      "dense_3 (Dense)              (None, 10)                1930      \n",
      "=================================================================\n",
      "Total params: 2,272,458\n",
      "Trainable params: 2,271,754\n",
      "Non-trainable params: 704\n",
      "_________________________________________________________________\n",
      "None\n"
     ]
    }
   ],
   "source": [
    "model.load_weights('weights/cifar10_alexnet.h5')\n",
    "\n",
    "print(model.summary())"
   ]
  },
  {
   "cell_type": "code",
   "execution_count": 6,
   "metadata": {
    "ExecuteTime": {
     "end_time": "2018-02-19T00:33:24.821810Z",
     "start_time": "2018-02-19T00:33:24.653205Z"
    }
   },
   "outputs": [
    {
     "name": "stdout",
     "output_type": "stream",
     "text": [
      "10\n",
      "7\n",
      "24.322296 384\n",
      "8\n",
      "14.838495 192\n",
      "9\n",
      "5.8947635 10\n"
     ]
    }
   ],
   "source": [
    "model.load_weights(\"weights/cifar10_alexnet.h5\")\n",
    "print(len(model.layers))\n",
    "for il in [7,8,9]:\n",
    "    print(il)\n",
    "    W = model.layers[il].get_weights()[0]\n",
    "    print(np.linalg.norm(W), np.linalg.matrix_rank(W))\n",
    "        "
   ]
  },
  {
   "cell_type": "markdown",
   "metadata": {
    "ExecuteTime": {
     "end_time": "2018-02-15T18:36:19.806752Z",
     "start_time": "2018-02-15T18:36:19.801192Z"
    }
   },
   "source": [
    "### Matrix Entropy\n",
    "\n",
    "http://www.pnas.org/content/97/18/10101.full\n",
    "\n",
    "\n",
    "### <font color='red'> ensure W has trace 1 ?\n"
   ]
  },
  {
   "cell_type": "code",
   "execution_count": 7,
   "metadata": {
    "ExecuteTime": {
     "end_time": "2018-02-19T00:33:24.834903Z",
     "start_time": "2018-02-19T00:33:24.823526Z"
    }
   },
   "outputs": [],
   "source": [
    "def matrix_entropy(W, n=512):\n",
    "\n",
    "    W=W/np.trace(W)\n",
    "    svd = TruncatedSVD(n_components=n-1, n_iter=7, random_state=10)\n",
    "    svd.fit(W) \n",
    "    sv = svd.singular_values_\n",
    "    rank = np.linalg.matrix_rank(W)\n",
    "    p = sv*sv\n",
    "    p = p/np.sum(p)\n",
    "    \n",
    "    if (rank==1):\n",
    "        rank=1.000001\n",
    "    entropy = - np.sum(p*np.log(p)) / np.log(rank) \n",
    "    return entropy\n"
   ]
  },
  {
   "cell_type": "markdown",
   "metadata": {},
   "source": [
    "### Matrix Entropy as a function of Epoch for a single run\n",
    "\n",
    "### <font color='red'>NOT AT ALL INTERESTING</font>"
   ]
  },
  {
   "cell_type": "code",
   "execution_count": 13,
   "metadata": {
    "ExecuteTime": {
     "end_time": "2018-02-19T00:33:39.500920Z",
     "start_time": "2018-02-19T00:33:39.376768Z"
    }
   },
   "outputs": [
    {
     "name": "stdout",
     "output_type": "stream",
     "text": [
      "weights/alexnet.b16.id1.e0.h5  weights/alexnet.b16.id1.e54.h5\r\n",
      "weights/alexnet.b16.id1.e1.h5  weights/alexnet.b16.id1.e55.h5\r\n",
      "weights/alexnet.b16.id1.e10.h5 weights/alexnet.b16.id1.e56.h5\r\n",
      "weights/alexnet.b16.id1.e11.h5 weights/alexnet.b16.id1.e57.h5\r\n",
      "weights/alexnet.b16.id1.e12.h5 weights/alexnet.b16.id1.e58.h5\r\n",
      "weights/alexnet.b16.id1.e13.h5 weights/alexnet.b16.id1.e59.h5\r\n",
      "weights/alexnet.b16.id1.e14.h5 weights/alexnet.b16.id1.e6.h5\r\n",
      "weights/alexnet.b16.id1.e15.h5 weights/alexnet.b16.id1.e60.h5\r\n",
      "weights/alexnet.b16.id1.e16.h5 weights/alexnet.b16.id1.e61.h5\r\n",
      "weights/alexnet.b16.id1.e17.h5 weights/alexnet.b16.id1.e62.h5\r\n",
      "weights/alexnet.b16.id1.e18.h5 weights/alexnet.b16.id1.e63.h5\r\n",
      "weights/alexnet.b16.id1.e19.h5 weights/alexnet.b16.id1.e64.h5\r\n",
      "weights/alexnet.b16.id1.e2.h5  weights/alexnet.b16.id1.e65.h5\r\n",
      "weights/alexnet.b16.id1.e20.h5 weights/alexnet.b16.id1.e66.h5\r\n",
      "weights/alexnet.b16.id1.e21.h5 weights/alexnet.b16.id1.e67.h5\r\n",
      "weights/alexnet.b16.id1.e22.h5 weights/alexnet.b16.id1.e68.h5\r\n",
      "weights/alexnet.b16.id1.e23.h5 weights/alexnet.b16.id1.e69.h5\r\n",
      "weights/alexnet.b16.id1.e24.h5 weights/alexnet.b16.id1.e7.h5\r\n",
      "weights/alexnet.b16.id1.e25.h5 weights/alexnet.b16.id1.e70.h5\r\n",
      "weights/alexnet.b16.id1.e26.h5 weights/alexnet.b16.id1.e71.h5\r\n",
      "weights/alexnet.b16.id1.e27.h5 weights/alexnet.b16.id1.e72.h5\r\n",
      "weights/alexnet.b16.id1.e28.h5 weights/alexnet.b16.id1.e73.h5\r\n",
      "weights/alexnet.b16.id1.e29.h5 weights/alexnet.b16.id1.e74.h5\r\n",
      "weights/alexnet.b16.id1.e3.h5  weights/alexnet.b16.id1.e75.h5\r\n",
      "weights/alexnet.b16.id1.e30.h5 weights/alexnet.b16.id1.e76.h5\r\n",
      "weights/alexnet.b16.id1.e31.h5 weights/alexnet.b16.id1.e77.h5\r\n",
      "weights/alexnet.b16.id1.e32.h5 weights/alexnet.b16.id1.e78.h5\r\n",
      "weights/alexnet.b16.id1.e33.h5 weights/alexnet.b16.id1.e79.h5\r\n",
      "weights/alexnet.b16.id1.e34.h5 weights/alexnet.b16.id1.e8.h5\r\n",
      "weights/alexnet.b16.id1.e35.h5 weights/alexnet.b16.id1.e80.h5\r\n",
      "weights/alexnet.b16.id1.e36.h5 weights/alexnet.b16.id1.e81.h5\r\n",
      "weights/alexnet.b16.id1.e37.h5 weights/alexnet.b16.id1.e82.h5\r\n",
      "weights/alexnet.b16.id1.e38.h5 weights/alexnet.b16.id1.e83.h5\r\n",
      "weights/alexnet.b16.id1.e39.h5 weights/alexnet.b16.id1.e84.h5\r\n",
      "weights/alexnet.b16.id1.e4.h5  weights/alexnet.b16.id1.e85.h5\r\n",
      "weights/alexnet.b16.id1.e40.h5 weights/alexnet.b16.id1.e86.h5\r\n",
      "weights/alexnet.b16.id1.e41.h5 weights/alexnet.b16.id1.e87.h5\r\n",
      "weights/alexnet.b16.id1.e42.h5 weights/alexnet.b16.id1.e88.h5\r\n",
      "weights/alexnet.b16.id1.e43.h5 weights/alexnet.b16.id1.e89.h5\r\n",
      "weights/alexnet.b16.id1.e44.h5 weights/alexnet.b16.id1.e9.h5\r\n",
      "weights/alexnet.b16.id1.e45.h5 weights/alexnet.b16.id1.e90.h5\r\n",
      "weights/alexnet.b16.id1.e46.h5 weights/alexnet.b16.id1.e91.h5\r\n",
      "weights/alexnet.b16.id1.e47.h5 weights/alexnet.b16.id1.e92.h5\r\n",
      "weights/alexnet.b16.id1.e48.h5 weights/alexnet.b16.id1.e93.h5\r\n",
      "weights/alexnet.b16.id1.e49.h5 weights/alexnet.b16.id1.e94.h5\r\n",
      "weights/alexnet.b16.id1.e5.h5  weights/alexnet.b16.id1.e95.h5\r\n",
      "weights/alexnet.b16.id1.e50.h5 weights/alexnet.b16.id1.e96.h5\r\n",
      "weights/alexnet.b16.id1.e51.h5 weights/alexnet.b16.id1.e97.h5\r\n",
      "weights/alexnet.b16.id1.e52.h5 weights/alexnet.b16.id1.e98.h5\r\n",
      "weights/alexnet.b16.id1.e53.h5 weights/alexnet.b16.id1.e99.h5\r\n"
     ]
    }
   ],
   "source": [
    "!ls weights/alexnet.b16.id1.e*.h5 "
   ]
  },
  {
   "cell_type": "code",
   "execution_count": 18,
   "metadata": {
    "ExecuteTime": {
     "end_time": "2018-02-19T00:34:20.820587Z",
     "start_time": "2018-02-19T00:34:20.815036Z"
    }
   },
   "outputs": [],
   "source": [
    "run_id = 1\n",
    "num_epochs = 38\n",
    "epochs = np.arange(1,num_epochs)\n",
    "\n",
    "every5_epochs = np.arange(0,num_epochs,5)\n",
    "every5_epochs = np.append(every5_epochs,37)\n",
    "\n",
    "run_ids = np.arange(1,11)"
   ]
  },
  {
   "cell_type": "code",
   "execution_count": 19,
   "metadata": {
    "ExecuteTime": {
     "end_time": "2018-02-19T00:34:49.624047Z",
     "start_time": "2018-02-19T00:34:21.158118Z"
    }
   },
   "outputs": [
    {
     "name": "stdout",
     "output_type": "stream",
     "text": [
      "weights/alexnet.b16.id1.e1.h5\n",
      "weights/alexnet.b16.id1.e2.h5\n",
      "weights/alexnet.b16.id1.e3.h5\n",
      "weights/alexnet.b16.id1.e4.h5\n",
      "weights/alexnet.b16.id1.e5.h5\n",
      "weights/alexnet.b16.id1.e6.h5\n",
      "weights/alexnet.b16.id1.e7.h5\n",
      "weights/alexnet.b16.id1.e8.h5\n",
      "weights/alexnet.b16.id1.e9.h5\n",
      "weights/alexnet.b16.id1.e10.h5\n",
      "weights/alexnet.b16.id1.e11.h5\n",
      "weights/alexnet.b16.id1.e12.h5\n",
      "weights/alexnet.b16.id1.e13.h5\n",
      "weights/alexnet.b16.id1.e14.h5\n",
      "weights/alexnet.b16.id1.e15.h5\n",
      "weights/alexnet.b16.id1.e16.h5\n",
      "weights/alexnet.b16.id1.e17.h5\n",
      "weights/alexnet.b16.id1.e18.h5\n",
      "weights/alexnet.b16.id1.e19.h5\n",
      "weights/alexnet.b16.id1.e20.h5\n",
      "weights/alexnet.b16.id1.e21.h5\n",
      "weights/alexnet.b16.id1.e22.h5\n",
      "weights/alexnet.b16.id1.e23.h5\n",
      "weights/alexnet.b16.id1.e24.h5\n",
      "weights/alexnet.b16.id1.e25.h5\n",
      "weights/alexnet.b16.id1.e26.h5\n",
      "weights/alexnet.b16.id1.e27.h5\n",
      "weights/alexnet.b16.id1.e28.h5\n",
      "weights/alexnet.b16.id1.e29.h5\n",
      "weights/alexnet.b16.id1.e30.h5\n",
      "weights/alexnet.b16.id1.e31.h5\n",
      "weights/alexnet.b16.id1.e32.h5\n",
      "weights/alexnet.b16.id1.e33.h5\n",
      "weights/alexnet.b16.id1.e34.h5\n",
      "weights/alexnet.b16.id1.e35.h5\n",
      "weights/alexnet.b16.id1.e36.h5\n",
      "weights/alexnet.b16.id1.e37.h5\n"
     ]
    }
   ],
   "source": [
    "entropies_w7, entropies_w8 = [], []\n",
    "for epoch in epochs:\n",
    "    modelfile = \"weights/alexnet.b16.id{}.e{}.h5\".format(run_id,epoch)\n",
    "    print(modelfile)\n",
    "    model.load_weights(modelfile)\n",
    "    W7 = model.layers[7].get_weights()[0]\n",
    "    W8 = model.layers[8].get_weights()[0]\n",
    "    entropies_w7.append(matrix_entropy(W7, n=384))\n",
    "    entropies_w8.append(matrix_entropy(W8, n=192))"
   ]
  },
  {
   "cell_type": "code",
   "execution_count": 20,
   "metadata": {
    "ExecuteTime": {
     "end_time": "2018-02-19T00:34:57.011169Z",
     "start_time": "2018-02-19T00:34:56.848898Z"
    }
   },
   "outputs": [
    {
     "data": {
      "text/plain": [
       "<matplotlib.text.Text at 0x1183fa630>"
      ]
     },
     "execution_count": 20,
     "metadata": {},
     "output_type": "execute_result"
    },
    {
     "data": {
      "image/png": "[encoded data removed]",
      "text/plain": [
       "<matplotlib.figure.Figure at 0x1183d3ba8>"
      ]
     },
     "metadata": {},
     "output_type": "display_data"
    }
   ],
   "source": [
    "plt.scatter(epochs, entropies_w7, color='blue')\n",
    "plt.scatter(epochs, entropies_w8, color='teal')\n",
    "plt.title(\"Entropy as a function of Epoch for layers 7 and 8 in Mini Alexnet\")"
   ]
  },
  {
   "cell_type": "code",
   "execution_count": 21,
   "metadata": {
    "ExecuteTime": {
     "end_time": "2018-02-19T00:34:57.886742Z",
     "start_time": "2018-02-19T00:34:57.761079Z"
    }
   },
   "outputs": [
    {
     "name": "stdout",
     "output_type": "stream",
     "text": [
      "weights/alexnet.b16.id1.e0.h5    weights/alexnet.b16.id1.e55.h5\r\n",
      "weights/alexnet.b16.id1.e1.h5    weights/alexnet.b16.id1.e56.h5\r\n",
      "weights/alexnet.b16.id1.e10.h5   weights/alexnet.b16.id1.e57.h5\r\n",
      "weights/alexnet.b16.id1.e11.h5   weights/alexnet.b16.id1.e58.h5\r\n",
      "weights/alexnet.b16.id1.e12.h5   weights/alexnet.b16.id1.e59.h5\r\n",
      "weights/alexnet.b16.id1.e13.h5   weights/alexnet.b16.id1.e6.h5\r\n",
      "weights/alexnet.b16.id1.e14.h5   weights/alexnet.b16.id1.e60.h5\r\n",
      "weights/alexnet.b16.id1.e15.h5   weights/alexnet.b16.id1.e61.h5\r\n",
      "weights/alexnet.b16.id1.e16.h5   weights/alexnet.b16.id1.e62.h5\r\n",
      "weights/alexnet.b16.id1.e17.h5   weights/alexnet.b16.id1.e63.h5\r\n",
      "weights/alexnet.b16.id1.e18.h5   weights/alexnet.b16.id1.e64.h5\r\n",
      "weights/alexnet.b16.id1.e19.h5   weights/alexnet.b16.id1.e65.h5\r\n",
      "weights/alexnet.b16.id1.e2.h5    weights/alexnet.b16.id1.e66.h5\r\n",
      "weights/alexnet.b16.id1.e20.h5   weights/alexnet.b16.id1.e67.h5\r\n",
      "weights/alexnet.b16.id1.e21.h5   weights/alexnet.b16.id1.e68.h5\r\n",
      "weights/alexnet.b16.id1.e22.h5   weights/alexnet.b16.id1.e69.h5\r\n",
      "weights/alexnet.b16.id1.e23.h5   weights/alexnet.b16.id1.e7.h5\r\n",
      "weights/alexnet.b16.id1.e24.h5   weights/alexnet.b16.id1.e70.h5\r\n",
      "weights/alexnet.b16.id1.e25.h5   weights/alexnet.b16.id1.e71.h5\r\n",
      "weights/alexnet.b16.id1.e26.h5   weights/alexnet.b16.id1.e72.h5\r\n",
      "weights/alexnet.b16.id1.e27.h5   weights/alexnet.b16.id1.e73.h5\r\n",
      "weights/alexnet.b16.id1.e28.h5   weights/alexnet.b16.id1.e74.h5\r\n",
      "weights/alexnet.b16.id1.e29.h5   weights/alexnet.b16.id1.e75.h5\r\n",
      "weights/alexnet.b16.id1.e3.h5    weights/alexnet.b16.id1.e76.h5\r\n",
      "weights/alexnet.b16.id1.e30.h5   weights/alexnet.b16.id1.e77.h5\r\n",
      "weights/alexnet.b16.id1.e31.h5   weights/alexnet.b16.id1.e78.h5\r\n",
      "weights/alexnet.b16.id1.e32.h5   weights/alexnet.b16.id1.e79.h5\r\n",
      "weights/alexnet.b16.id1.e33.h5   weights/alexnet.b16.id1.e8.h5\r\n",
      "weights/alexnet.b16.id1.e34.h5   weights/alexnet.b16.id1.e80.h5\r\n",
      "weights/alexnet.b16.id1.e35.h5   weights/alexnet.b16.id1.e81.h5\r\n",
      "weights/alexnet.b16.id1.e36.h5   weights/alexnet.b16.id1.e82.h5\r\n",
      "weights/alexnet.b16.id1.e37.h5   weights/alexnet.b16.id1.e83.h5\r\n",
      "weights/alexnet.b16.id1.e38.h5   weights/alexnet.b16.id1.e84.h5\r\n",
      "weights/alexnet.b16.id1.e39.h5   weights/alexnet.b16.id1.e85.h5\r\n",
      "weights/alexnet.b16.id1.e4.h5    weights/alexnet.b16.id1.e86.h5\r\n",
      "weights/alexnet.b16.id1.e40.h5   weights/alexnet.b16.id1.e87.h5\r\n",
      "weights/alexnet.b16.id1.e41.h5   weights/alexnet.b16.id1.e88.h5\r\n",
      "weights/alexnet.b16.id1.e42.h5   weights/alexnet.b16.id1.e89.h5\r\n",
      "weights/alexnet.b16.id1.e43.h5   weights/alexnet.b16.id1.e9.h5\r\n",
      "weights/alexnet.b16.id1.e44.h5   weights/alexnet.b16.id1.e90.h5\r\n",
      "weights/alexnet.b16.id1.e45.h5   weights/alexnet.b16.id1.e91.h5\r\n",
      "weights/alexnet.b16.id1.e46.h5   weights/alexnet.b16.id1.e92.h5\r\n",
      "weights/alexnet.b16.id1.e47.h5   weights/alexnet.b16.id1.e93.h5\r\n",
      "weights/alexnet.b16.id1.e48.h5   weights/alexnet.b16.id1.e94.h5\r\n",
      "weights/alexnet.b16.id1.e49.h5   weights/alexnet.b16.id1.e95.h5\r\n",
      "weights/alexnet.b16.id1.e5.h5    weights/alexnet.b16.id1.e96.h5\r\n",
      "weights/alexnet.b16.id1.e50.h5   weights/alexnet.b16.id1.e97.h5\r\n",
      "weights/alexnet.b16.id1.e51.h5   weights/alexnet.b16.id1.e98.h5\r\n",
      "weights/alexnet.b16.id1.e52.h5   weights/alexnet.b16.id1.e99.h5\r\n",
      "weights/alexnet.b16.id1.e53.h5   weights/alexnet.b16.id1.final.h5\r\n",
      "weights/alexnet.b16.id1.e54.h5\r\n"
     ]
    }
   ],
   "source": [
    "!ls weights/alexnet.b16.id1.*"
   ]
  },
  {
   "cell_type": "markdown",
   "metadata": {},
   "source": [
    "## 100 epochs, no early stopping\n",
    "\n",
    "### Entropy keeps decreasing"
   ]
  },
  {
   "cell_type": "code",
   "execution_count": 22,
   "metadata": {
    "ExecuteTime": {
     "end_time": "2018-02-19T00:36:15.125210Z",
     "start_time": "2018-02-19T00:34:58.640787Z"
    }
   },
   "outputs": [],
   "source": [
    "epochs100 = np.arange(1,100)\n",
    "entropies_w7, entropies_w8 = [], []\n",
    "for epoch in epochs100:\n",
    "    modelfile = \"weights/alexnet.b16.id{}.e{}.h5\".format(1,epoch)\n",
    "    model.load_weights(modelfile)\n",
    "    W7 = model.layers[7].get_weights()[0]\n",
    "    W8 = model.layers[8].get_weights()[0]\n",
    "    entropies_w7.append(matrix_entropy(W7, n=384))\n",
    "    entropies_w8.append(matrix_entropy(W8, n=192))"
   ]
  },
  {
   "cell_type": "code",
   "execution_count": 23,
   "metadata": {
    "ExecuteTime": {
     "end_time": "2018-02-19T00:36:15.265755Z",
     "start_time": "2018-02-19T00:36:15.126966Z"
    }
   },
   "outputs": [
    {
     "data": {
      "text/plain": [
       "<matplotlib.text.Text at 0x11729af60>"
      ]
     },
     "execution_count": 23,
     "metadata": {},
     "output_type": "execute_result"
    },
    {
     "data": {
      "image/png": "[encoded data removed]",
      "text/plain": [
       "<matplotlib.figure.Figure at 0x1183e1fd0>"
      ]
     },
     "metadata": {},
     "output_type": "display_data"
    }
   ],
   "source": [
    "plt.scatter(epochs100, entropies_w7, color='blue')\n",
    "plt.scatter(epochs100, entropies_w8, color='teal')\n",
    "plt.title(\"Entropy as a function of Epoch for layers 7 and 8 in Mini Alexnet\")"
   ]
  },
  {
   "cell_type": "markdown",
   "metadata": {
    "ExecuteTime": {
     "end_time": "2018-02-17T06:50:06.081541Z",
     "start_time": "2018-02-17T06:50:06.048964Z"
    }
   },
   "source": [
    "### training accuracy\n",
    "\n",
    "the entropy continues to decrease while the training accuracy increases\n",
    "\n",
    "but the generalization accuracy is slightly worse"
   ]
  },
  {
   "cell_type": "code",
   "execution_count": 24,
   "metadata": {
    "ExecuteTime": {
     "end_time": "2018-02-19T00:36:15.389498Z",
     "start_time": "2018-02-19T00:36:15.267277Z"
    }
   },
   "outputs": [
    {
     "name": "stdout",
     "output_type": "stream",
     "text": [
      "cat: results/cifar10_alexnet.b100.100epochs.out: No such file or directory\r\n"
     ]
    }
   ],
   "source": [
    "! cat results/cifar10_alexnet.b100.100epochs.out | grep \"50000/\" | head -3"
   ]
  },
  {
   "cell_type": "code",
   "execution_count": 25,
   "metadata": {
    "ExecuteTime": {
     "end_time": "2018-02-19T00:36:15.398863Z",
     "start_time": "2018-02-19T00:36:15.392416Z"
    }
   },
   "outputs": [
    {
     "data": {
      "text/plain": [
       "100"
      ]
     },
     "execution_count": 25,
     "metadata": {},
     "output_type": "execute_result"
    }
   ],
   "source": [
    "accs = np.loadtxt(\"epochs100.training.accs\")\n",
    "len(accs)"
   ]
  },
  {
   "cell_type": "code",
   "execution_count": 26,
   "metadata": {
    "ExecuteTime": {
     "end_time": "2018-02-19T00:36:15.551822Z",
     "start_time": "2018-02-19T00:36:15.400611Z"
    }
   },
   "outputs": [
    {
     "data": {
      "text/plain": [
       "<matplotlib.text.Text at 0x1187981d0>"
      ]
     },
     "execution_count": 26,
     "metadata": {},
     "output_type": "execute_result"
    },
    {
     "data": {
      "image/png": "[encoded data removed]",
      "text/plain": [
       "<matplotlib.figure.Figure at 0x1172a3eb8>"
      ]
     },
     "metadata": {},
     "output_type": "display_data"
    }
   ],
   "source": [
    "plt.scatter(epochs100, entropies_w7, color='blue')\n",
    "plt.scatter(epochs100, entropies_w8, color='teal')\n",
    "plt.scatter(epochs100, accs[1:], color='red')\n",
    "\n",
    "plt.title(\"Entropy layers 7 and 8, and Training Accuracy,  in Mini Alexnet\")"
   ]
  },
  {
   "cell_type": "markdown",
   "metadata": {
    "ExecuteTime": {
     "end_time": "2018-02-17T07:00:05.540803Z",
     "start_time": "2018-02-17T07:00:05.364870Z"
    }
   },
   "source": [
    "### Try 1000 epochs...save weights every 10\n",
    "\n"
   ]
  },
  {
   "cell_type": "code",
   "execution_count": 27,
   "metadata": {
    "ExecuteTime": {
     "end_time": "2018-02-19T00:37:32.938670Z",
     "start_time": "2018-02-19T00:36:15.553525Z"
    }
   },
   "outputs": [],
   "source": [
    "epochs1000 = np.arange(0,1000,10)\n",
    "entropies_w7, entropies_w8 = [], []\n",
    "for epoch in epochs1000:\n",
    "    modelfile = \"weights/alexnet.b16.id{}.e{}.h5\".format(1000,epoch)\n",
    "    model.load_weights(modelfile)\n",
    "    W7 = model.layers[7].get_weights()[0]\n",
    "    W8 = model.layers[8].get_weights()[0]\n",
    "    entropies_w7.append(matrix_entropy(W7, n=384))\n",
    "    entropies_w8.append(matrix_entropy(W8, n=192))"
   ]
  },
  {
   "cell_type": "code",
   "execution_count": null,
   "metadata": {
    "ExecuteTime": {
     "end_time": "2018-02-18T07:02:44.062097Z",
     "start_time": "2018-02-18T07:02:43.826713Z"
    }
   },
   "outputs": [],
   "source": []
  },
  {
   "cell_type": "code",
   "execution_count": 28,
   "metadata": {
    "ExecuteTime": {
     "end_time": "2018-02-19T00:37:33.600394Z",
     "start_time": "2018-02-19T00:37:32.940613Z"
    }
   },
   "outputs": [
    {
     "name": "stdout",
     "output_type": "stream",
     "text": [
      "50000/50000 [==============================] - 229s 5ms/step - loss: 0.0779 - acc: 0.5388\r\n",
      "50000/50000 [==============================] - 19s 372us/step - loss: 0.0592 - acc: 0.6868\r\n",
      "50000/50000 [==============================] - 19s 373us/step - loss: 0.0496 - acc: 0.7528\r\n"
     ]
    }
   ],
   "source": [
    "!cat results/cifar10_alexnet.id1000.b16.1000epochs.out | grep \"50000/\" | head -3"
   ]
  },
  {
   "cell_type": "code",
   "execution_count": 29,
   "metadata": {
    "ExecuteTime": {
     "end_time": "2018-02-19T00:37:34.251931Z",
     "start_time": "2018-02-19T00:37:33.604041Z"
    }
   },
   "outputs": [],
   "source": [
    "!cat results/cifar10_alexnet.id1000.b16.1000epochs.out  | grep \"50000/\" | sed -e 's/.*acc://'   > epochs1000.training.accs\n"
   ]
  },
  {
   "cell_type": "code",
   "execution_count": 30,
   "metadata": {
    "ExecuteTime": {
     "end_time": "2018-02-19T00:37:34.265158Z",
     "start_time": "2018-02-19T00:37:34.255557Z"
    }
   },
   "outputs": [
    {
     "data": {
      "text/plain": [
       "1000"
      ]
     },
     "execution_count": 30,
     "metadata": {},
     "output_type": "execute_result"
    }
   ],
   "source": [
    "accs1000 = np.loadtxt(\"epochs1000.training.accs\")\n",
    "len(accs1000)"
   ]
  },
  {
   "cell_type": "code",
   "execution_count": 31,
   "metadata": {
    "ExecuteTime": {
     "end_time": "2018-02-19T00:37:34.414776Z",
     "start_time": "2018-02-19T00:37:34.267190Z"
    }
   },
   "outputs": [
    {
     "data": {
      "text/plain": [
       "<matplotlib.text.Text at 0x11738dbe0>"
      ]
     },
     "execution_count": 31,
     "metadata": {},
     "output_type": "execute_result"
    },
    {
     "data": {
      "image/png": "[encoded data removed]",
      "text/plain": [
       "<matplotlib.figure.Figure at 0x103dae8d0>"
      ]
     },
     "metadata": {},
     "output_type": "display_data"
    }
   ],
   "source": [
    "plt.scatter(epochs1000, entropies_w7, color='blue')\n",
    "plt.scatter(epochs1000, entropies_w8, color='teal')\n",
    "\n",
    "plt.title(\"Entropy layers 7 and 8, and Training Accuracy,  in Mini Alexnet\")"
   ]
  },
  {
   "cell_type": "code",
   "execution_count": 32,
   "metadata": {
    "ExecuteTime": {
     "end_time": "2018-02-19T00:37:34.552120Z",
     "start_time": "2018-02-19T00:37:34.416398Z"
    }
   },
   "outputs": [
    {
     "data": {
      "text/plain": [
       "<matplotlib.collections.PathCollection at 0x1186f1b00>"
      ]
     },
     "execution_count": 32,
     "metadata": {},
     "output_type": "execute_result"
    },
    {
     "data": {
      "image/png": "[encoded data removed]",
      "text/plain": [
       "<matplotlib.figure.Figure at 0x1068108d0>"
      ]
     },
     "metadata": {},
     "output_type": "display_data"
    }
   ],
   "source": [
    "plt.scatter(range(0,1000), accs1000, color='red')\n"
   ]
  },
  {
   "cell_type": "code",
   "execution_count": 33,
   "metadata": {
    "ExecuteTime": {
     "end_time": "2018-02-19T00:37:34.803110Z",
     "start_time": "2018-02-19T00:37:34.553871Z"
    }
   },
   "outputs": [
    {
     "data": {
      "text/plain": [
       "<matplotlib.text.Text at 0x11726d080>"
      ]
     },
     "execution_count": 33,
     "metadata": {},
     "output_type": "execute_result"
    },
    {
     "data": {
      "image/png": "[encoded data removed]",
      "text/plain": [
       "<matplotlib.figure.Figure at 0x1067f6cf8>"
      ]
     },
     "metadata": {},
     "output_type": "display_data"
    }
   ],
   "source": [
    "plt.scatter(epochs1000[0:20], entropies_w7[0:20], color='blue')\n",
    "plt.scatter(epochs1000[0:20], entropies_w8[0:20], color='teal')\n",
    "plt.scatter(range(20,200), accs1000[20:200], color='red')\n",
    "\n",
    "plt.title(\"Entropy layers 7 and 8, and Training Accuracy,  in Mini Alexnet\")"
   ]
  },
  {
   "cell_type": "code",
   "execution_count": null,
   "metadata": {
    "ExecuteTime": {
     "end_time": "2018-02-18T07:09:17.641324Z",
     "start_time": "2018-02-18T07:09:17.414576Z"
    }
   },
   "outputs": [],
   "source": []
  },
  {
   "cell_type": "markdown",
   "metadata": {},
   "source": [
    "## Compute generalization accuracy for 1000 eppchs"
   ]
  },
  {
   "cell_type": "code",
   "execution_count": 34,
   "metadata": {
    "ExecuteTime": {
     "end_time": "2018-02-19T00:37:34.927088Z",
     "start_time": "2018-02-19T00:37:34.804845Z"
    }
   },
   "outputs": [
    {
     "name": "stdout",
     "output_type": "stream",
     "text": [
      "-rw-r--r--@ 1 charlesmartin14  staff  31035526 Mar 30  2009 ../data/cifar-10-batches-py/test_batch\r\n"
     ]
    }
   ],
   "source": [
    "!ls -l ../data/cifar-10-batches-py/test_batch"
   ]
  },
  {
   "cell_type": "code",
   "execution_count": 35,
   "metadata": {
    "ExecuteTime": {
     "end_time": "2018-02-19T00:37:37.329942Z",
     "start_time": "2018-02-19T00:37:34.930039Z"
    }
   },
   "outputs": [
    {
     "name": "stdout",
     "output_type": "stream",
     "text": [
      "Loading test images...\n"
     ]
    }
   ],
   "source": [
    "img = tf.placeholder(tf.float32, [28, 28, 3])\n",
    "norm_image = tf.image.per_image_standardization(img)\n",
    "\n",
    "print(\"Loading test images...\")\n",
    "cifar10_test_images = []\n",
    "cifar10_test_labels = []\n",
    "test_file = open('../data/cifar-10-batches-py/test_batch', 'rb')\n",
    "test_dict = pickle.load(test_file, encoding='bytes')\n",
    "\n",
    "for image, label in zip(test_dict[b'data'], test_dict[b'labels']):\n",
    "    image_red = np.reshape(image[:1024], (32, 32))[2:-2, 2:-2] / 255.0\n",
    "    image_red = np.reshape(image_red, (28, 28, 1))\n",
    "    image_green = np.reshape(image[1024:2048], (32, 32))[2:-2,\n",
    "                                                            2:-2] / 255.0\n",
    "    image_green = np.reshape(image_green, (28, 28, 1))\n",
    "    image_blue = np.reshape(image[2048:3072], (32, 32))[2:-2, 2:-2] / 255.0\n",
    "    image_blue = np.reshape(image_blue, (28, 28, 1))\n",
    "    image_blue = np.reshape(image_blue, (28, 28, 1))\n",
    "    image = np.concatenate([image_red, image_green, image_blue], axis=-1)\n",
    "    image = norm_image.eval(feed_dict={img:image})\n",
    "    cifar10_test_images.append(image)\n",
    "    label = np.identity(10)[label]\n",
    "    cifar10_test_labels.append(label)\n",
    "test_file.close()"
   ]
  },
  {
   "cell_type": "code",
   "execution_count": 36,
   "metadata": {
    "ExecuteTime": {
     "end_time": "2018-02-19T00:37:37.483913Z",
     "start_time": "2018-02-19T00:37:37.331682Z"
    }
   },
   "outputs": [],
   "source": [
    "opt = SGD(lr=0.01, momentum=0.9)\n",
    "model.compile(loss='mse', optimizer=opt, metrics=['accuracy'])\n",
    "\n",
    "sess = tf.InteractiveSession()\n",
    "sess.run(tf.global_variables_initializer())\n"
   ]
  },
  {
   "cell_type": "code",
   "execution_count": 37,
   "metadata": {
    "ExecuteTime": {
     "end_time": "2018-02-19T00:44:16.735597Z",
     "start_time": "2018-02-19T00:37:37.485791Z"
    }
   },
   "outputs": [
    {
     "name": "stdout",
     "output_type": "stream",
     "text": [
      "10000/10000 [==============================] - 19s 2ms/step\n",
      "10000/10000 [==============================] - 19s 2ms/step\n",
      "10000/10000 [==============================] - 19s 2ms/step\n",
      "10000/10000 [==============================] - 19s 2ms/step\n",
      "10000/10000 [==============================] - 19s 2ms/step\n",
      "10000/10000 [==============================] - 20s 2ms/step\n",
      "10000/10000 [==============================] - 20s 2ms/step\n",
      "10000/10000 [==============================] - 20s 2ms/step\n",
      "10000/10000 [==============================] - 20s 2ms/step\n",
      "10000/10000 [==============================] - 20s 2ms/step\n",
      "10000/10000 [==============================] - 19s 2ms/step\n",
      "10000/10000 [==============================] - 19s 2ms/step\n",
      "10000/10000 [==============================] - 20s 2ms/step\n",
      "10000/10000 [==============================] - 20s 2ms/step\n",
      "10000/10000 [==============================] - 20s 2ms/step\n",
      "10000/10000 [==============================] - 20s 2ms/step\n",
      "10000/10000 [==============================] - 21s 2ms/step\n",
      "10000/10000 [==============================] - 22s 2ms/step\n",
      "10000/10000 [==============================] - 20s 2ms/step\n",
      "10000/10000 [==============================] - 20s 2ms/step\n"
     ]
    }
   ],
   "source": [
    "gen_accs = []\n",
    "for epoch in epochs1000[0:20]:\n",
    "    modelfile = \"weights/alexnet.b16.id{}.e{}.h5\".format(1000,epoch)\n",
    "    model.load_weights(modelfile)\n",
    "    acc =  model.evaluate(np.array(cifar10_test_images),np.array(cifar10_test_labels), batch_size=256)\n",
    "    gen_accs.append(acc[1])"
   ]
  },
  {
   "cell_type": "code",
   "execution_count": 38,
   "metadata": {
    "ExecuteTime": {
     "end_time": "2018-02-19T00:44:16.915138Z",
     "start_time": "2018-02-19T00:44:16.737662Z"
    }
   },
   "outputs": [
    {
     "data": {
      "text/plain": [
       "<matplotlib.text.Text at 0x118c3f0f0>"
      ]
     },
     "execution_count": 38,
     "metadata": {},
     "output_type": "execute_result"
    },
    {
     "data": {
      "image/png": "[encoded data removed]",
      "text/plain": [
       "<matplotlib.figure.Figure at 0x118d88a58>"
      ]
     },
     "metadata": {},
     "output_type": "display_data"
    }
   ],
   "source": [
    "plt.scatter(epochs1000[0:20], entropies_w7[0:20], color='blue')\n",
    "plt.scatter(epochs1000[0:20], entropies_w8[0:20], color='teal')\n",
    "plt.scatter(epochs1000[0:20], gen_accs[0:20], color='orange')\n",
    "\n",
    "plt.title(\"Entropy layers 7 and 8, and Training Accuracy,  in Mini Alexnet\")"
   ]
  },
  {
   "cell_type": "code",
   "execution_count": null,
   "metadata": {},
   "outputs": [],
   "source": []
  },
  {
   "cell_type": "code",
   "execution_count": null,
   "metadata": {},
   "outputs": [],
   "source": []
  },
  {
   "cell_type": "code",
   "execution_count": null,
   "metadata": {},
   "outputs": [],
   "source": []
  },
  {
   "cell_type": "code",
   "execution_count": 104,
   "metadata": {
    "ExecuteTime": {
     "end_time": "2018-02-16T00:40:38.547640Z",
     "start_time": "2018-02-16T00:40:38.402659Z"
    }
   },
   "outputs": [
    {
     "name": "stdout",
     "output_type": "stream",
     "text": [
      "weights/alexnet.b16.id1.e35.h5\r\n"
     ]
    }
   ],
   "source": [
    "!ls weights/alexnet.b16.id*.e35.h5 "
   ]
  },
  {
   "cell_type": "code",
   "execution_count": 48,
   "metadata": {
    "ExecuteTime": {
     "end_time": "2018-02-19T00:48:40.100670Z",
     "start_time": "2018-02-19T00:48:40.097716Z"
    }
   },
   "outputs": [],
   "source": [
    "import matplotlib.pylab as pylab\n",
    "pylab.rcParams['figure.figsize'] = 16, 16"
   ]
  },
  {
   "cell_type": "markdown",
   "metadata": {
    "ExecuteTime": {
     "end_time": "2018-02-19T00:44:16.920668Z",
     "start_time": "2018-02-19T00:44:16.917799Z"
    }
   },
   "source": [
    "### Analyze upto 100, not just 37"
   ]
  },
  {
   "cell_type": "code",
   "execution_count": 54,
   "metadata": {
    "ExecuteTime": {
     "end_time": "2018-02-19T00:53:43.725862Z",
     "start_time": "2018-02-19T00:53:27.605603Z"
    },
    "scrolled": true
   },
   "outputs": [
    {
     "name": "stdout",
     "output_type": "stream",
     "text": [
      "0 0 0 weights/alexnet.b16.id1.e1.h5\n",
      "1 0 1 weights/alexnet.b16.id1.e6.h5\n",
      "2 0 2 weights/alexnet.b16.id1.e11.h5\n",
      "3 0 3 weights/alexnet.b16.id1.e16.h5\n",
      "4 0 4 weights/alexnet.b16.id1.e21.h5\n",
      "5 1 0 weights/alexnet.b16.id1.e26.h5\n",
      "6 1 1 weights/alexnet.b16.id1.e31.h5\n",
      "7 1 2 weights/alexnet.b16.id1.e36.h5\n",
      "8 1 3 weights/alexnet.b16.id1.e41.h5\n",
      "9 1 4 weights/alexnet.b16.id1.e46.h5\n",
      "10 2 0 weights/alexnet.b16.id1.e51.h5\n",
      "11 2 1 weights/alexnet.b16.id1.e56.h5\n",
      "12 2 2 weights/alexnet.b16.id1.e61.h5\n",
      "13 2 3 weights/alexnet.b16.id1.e66.h5\n",
      "14 2 4 weights/alexnet.b16.id1.e71.h5\n",
      "15 3 0 weights/alexnet.b16.id1.e76.h5\n",
      "16 3 1 weights/alexnet.b16.id1.e81.h5\n",
      "17 3 2 weights/alexnet.b16.id1.e86.h5\n",
      "18 3 3 weights/alexnet.b16.id1.e91.h5\n",
      "19 3 4 weights/alexnet.b16.id1.e96.h5\n"
     ]
    },
    {
     "data": {
      "image/png": "[encoded data removed]",
      "text/plain": [
       "<matplotlib.figure.Figure at 0x11b66c2e8>"
      ]
     },
     "metadata": {},
     "output_type": "display_data"
    }
   ],
   "source": [
    "f, axes = plt.subplots(5,5)\n",
    "\n",
    "for idx, epoch in enumerate(np.arange(1,100,5)):\n",
    "    eigenvalues = []\n",
    "    \n",
    "    #for run_id in [1]:\n",
    "    modelfile = \"weights/alexnet.b16.id{}.e{}.h5\".format(run_id,epoch)\n",
    "    model.load_weights(modelfile)\n",
    "    W7 = model.layers[7].get_weights()[0]\n",
    "    n=384\n",
    "    W = W7 / np.linalg.norm(W)\n",
    "    svd = TruncatedSVD(n_components=n-1, n_iter=7, random_state=10)\n",
    "    svd.fit(W) \n",
    "    sv = svd.singular_values_\n",
    "    eigenvalues.append(sv*sv)\n",
    "\n",
    "    iay = idx % 5\n",
    "    iax = int(idx / 5)\n",
    "\n",
    "    print(idx, iax, iay, modelfile)\n",
    "    subplot = axes[iax,iay]\n",
    "    subplot.hist(eigenvalues, bins=20, alpha=0.25, color='blue');\n",
    "    subplot.set_title(\"Epoch {}\".format(epoch));\n",
    "\n",
    "    \n",
    "f.subplots_adjust(hspace=0.3)\n",
    "plt.show()\n"
   ]
  },
  {
   "cell_type": "code",
   "execution_count": 55,
   "metadata": {
    "ExecuteTime": {
     "end_time": "2018-02-19T00:53:51.215434Z",
     "start_time": "2018-02-19T00:53:47.073953Z"
    },
    "scrolled": true
   },
   "outputs": [
    {
     "name": "stdout",
     "output_type": "stream",
     "text": [
      "0 0 0 weights/alexnet.b16.id1.e1.h5\n",
      "1 0 1 weights/alexnet.b16.id1.e6.h5\n",
      "2 0 2 weights/alexnet.b16.id1.e11.h5\n",
      "3 0 3 weights/alexnet.b16.id1.e16.h5\n",
      "4 0 4 weights/alexnet.b16.id1.e21.h5\n",
      "5 1 0 weights/alexnet.b16.id1.e26.h5\n",
      "6 1 1 weights/alexnet.b16.id1.e31.h5\n",
      "7 1 2 weights/alexnet.b16.id1.e36.h5\n",
      "8 1 3 weights/alexnet.b16.id1.e41.h5\n",
      "9 1 4 weights/alexnet.b16.id1.e46.h5\n",
      "10 2 0 weights/alexnet.b16.id1.e51.h5\n",
      "11 2 1 weights/alexnet.b16.id1.e56.h5\n",
      "12 2 2 weights/alexnet.b16.id1.e61.h5\n",
      "13 2 3 weights/alexnet.b16.id1.e66.h5\n",
      "14 2 4 weights/alexnet.b16.id1.e71.h5\n",
      "15 3 0 weights/alexnet.b16.id1.e76.h5\n",
      "16 3 1 weights/alexnet.b16.id1.e81.h5\n",
      "17 3 2 weights/alexnet.b16.id1.e86.h5\n",
      "18 3 3 weights/alexnet.b16.id1.e91.h5\n",
      "19 3 4 weights/alexnet.b16.id1.e96.h5\n"
     ]
    },
    {
     "data": {
      "image/png": "[encoded data removed]",
      "text/plain": [
       "<matplotlib.figure.Figure at 0x11bf99780>"
      ]
     },
     "metadata": {},
     "output_type": "display_data"
    }
   ],
   "source": [
    "f, axes = plt.subplots(5, 5)\n",
    "\n",
    "for idx, epoch in enumerate(np.arange(1,100,5)):\n",
    "    eigenvalues = []\n",
    "    \n",
    "    #for run_id in [1]:\n",
    "    modelfile = \"weights/alexnet.b16.id{}.e{}.h5\".format(run_id,epoch)\n",
    "    model.load_weights(modelfile)\n",
    "    W8 = model.layers[8].get_weights()[0]\n",
    "    n=192\n",
    "    WW = np.dot(W8.transpose(),W8)\n",
    "    #WW = / np.linalg.norm(WW)\n",
    "    \n",
    "    ev, _ = np.linalg.eig(WW)\n",
    "    eigenvalues.append(ev)\n",
    "\n",
    "    iay = idx % 5\n",
    "    iax = int(idx / 5)\n",
    "\n",
    "    print(idx, iax, iay, modelfile)\n",
    "    subplot = axes[iax,iay]\n",
    "    subplot.hist(eigenvalues, bins=20, alpha=0.25, color='green');\n",
    "    subplot.set_title(\"Epoch {}\".format(epoch));\n",
    "\n",
    "    \n",
    "f.subplots_adjust(hspace=0.3)\n",
    "plt.show()\n"
   ]
  },
  {
   "cell_type": "markdown",
   "metadata": {
    "ExecuteTime": {
     "end_time": "2018-02-19T00:48:25.228911Z",
     "start_time": "2018-02-19T00:48:25.226488Z"
    }
   },
   "source": [
    "### save file "
   ]
  },
  {
   "cell_type": "markdown",
   "metadata": {},
   "source": [
    "### TODO\n",
    "\n",
    "- make this into a 3d Plot\n",
    "- average over all ids\n",
    "- repeat for MLP3\n",
    "- \n",
    "\n",
    "### Is Entropy a good stopping criteria\n",
    "\n",
    " - rerunning Mini Alexnet with no stop\n",
    " - measure...training and generalization accuracy along epochs (have to load model and run test)\n",
    " - where is training  ?  did not save\n",
    " \n",
    "### Fit Marchecnko-Pastur\n",
    "  \n",
    "  - get working on the fits I have\n",
    "  - can we shuffle the elements and obtain MP\n",
    "\n",
    "## Numerical fitting \n",
    "pyRMT.py\n"
   ]
  },
  {
   "cell_type": "code",
   "execution_count": 174,
   "metadata": {
    "ExecuteTime": {
     "end_time": "2018-02-16T02:29:40.577510Z",
     "start_time": "2018-02-16T02:29:40.574767Z"
    }
   },
   "outputs": [],
   "source": [
    "modelfiles = [\"alexnet.b16.id2.final.h5\" ]\n",
    "colors = [\"green\", \"blue\"]"
   ]
  },
  {
   "cell_type": "code",
   "execution_count": 40,
   "metadata": {
    "ExecuteTime": {
     "end_time": "2018-02-15T19:28:01.257799Z",
     "start_time": "2018-02-15T19:28:01.254558Z"
    }
   },
   "outputs": [],
   "source": [
    "modelfiles = [\"cifar10_alexnet.h5\", \"alexnet.b2.final.h5\", \"cifar10_alexnet_wd.h5\",\"cifar10_alexnet_rand_labels.h5\", \"alexnet.b512.final.h5\" ,\"alexnet.b16.rand100.final.h5\", \"alexnet.b2.rand100.final.h5\"]\n",
    "colors = [\"green\", \"blue\", \"red\", \"orange\", \"cyan\", \"blue\", \"magenta\"]"
   ]
  },
  {
   "cell_type": "code",
   "execution_count": 188,
   "metadata": {
    "ExecuteTime": {
     "end_time": "2018-02-17T06:01:42.052323Z",
     "start_time": "2018-02-17T06:01:42.011392Z"
    }
   },
   "outputs": [],
   "source": [
    "modelfiles = [\"alexnet.b16.id1.e1.h5\" ]\n",
    "colors = [\"blue\"]"
   ]
  },
  {
   "cell_type": "code",
   "execution_count": 191,
   "metadata": {
    "ExecuteTime": {
     "end_time": "2018-02-17T06:02:49.371881Z",
     "start_time": "2018-02-17T06:02:48.972658Z"
    }
   },
   "outputs": [
    {
     "name": "stdout",
     "output_type": "stream",
     "text": [
      "alexnet.b16.id1.e1.h5\n"
     ]
    },
    {
     "data": {
      "image/png": "[encoded data removed]",
      "text/plain": [
       "<matplotlib.figure.Figure at 0x122379940>"
      ]
     },
     "metadata": {},
     "output_type": "display_data"
    }
   ],
   "source": [
    "for modelfile, color in zip(modelfiles, colors):\n",
    "    print(modelfile)\n",
    "    model.load_weights(\"weights/{}\".format(modelfile))\n",
    "    W7 = model.layers[8].get_weights()[0]\n",
    "    n = 384\n",
    "    W = W7 / np.linalg.norm(W7)\n",
    "    WW = np.dot(W.transpose(),W)\n",
    "    ev, _ = np.linalg.eig(WW)\n",
    "\n",
    "\n",
    "    plt.hist(ev, bins=20, alpha=0.25, color=color);\n",
    "    plt.title(modelfile)\n",
    "    plt.show()"
   ]
  },
  {
   "cell_type": "code",
   "execution_count": null,
   "metadata": {},
   "outputs": [],
   "source": [
    "## TODO\n",
    "\n",
    "- batch size effects\n",
    "- random labels"
   ]
  },
  {
   "cell_type": "code",
   "execution_count": null,
   "metadata": {},
   "outputs": [],
   "source": []
  },
  {
   "cell_type": "code",
   "execution_count": null,
   "metadata": {},
   "outputs": [],
   "source": []
  }
 ],
 "metadata": {
  "kernelspec": {
   "display_name": "Python 3",
   "language": "python",
   "name": "python3"
  },
  "language_info": {
   "codemirror_mode": {
    "name": "ipython",
    "version": 3
   },
   "file_extension": ".py",
   "mimetype": "text/x-python",
   "name": "python",
   "nbconvert_exporter": "python",
   "pygments_lexer": "ipython3",
   "version": "3.6.0"
  }
 },
 "nbformat": 4,
 "nbformat_minor": 2
}
