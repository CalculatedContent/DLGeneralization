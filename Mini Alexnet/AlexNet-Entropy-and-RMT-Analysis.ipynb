{
 "cells": [
  {
   "cell_type": "markdown",
   "metadata": {
    "ExecuteTime": {
     "end_time": "2018-01-13T05:27:28.561138Z",
     "start_time": "2018-01-13T05:27:28.557329Z"
    }
   },
   "source": [
    "\n",
    "### Alex Net Entropy and Marcenko-Pastur Law\n",
    "\n",
    "http://math.mit.edu/~edelman/publications/random_matrix_theory_innovative.pdf\n",
    "\n",
    "\n",
    "\n",
    "This time, I ensure W has norm 1\n"
   ]
  },
  {
   "cell_type": "code",
   "execution_count": 1,
   "metadata": {
    "ExecuteTime": {
     "end_time": "2018-02-15T18:22:55.730020Z",
     "start_time": "2018-02-15T18:22:52.348078Z"
    }
   },
   "outputs": [
    {
     "name": "stderr",
     "output_type": "stream",
     "text": [
      "/Users/charlesmartin14/anaconda3/lib/python3.6/importlib/_bootstrap.py:205: RuntimeWarning: compiletime version 3.5 of module 'tensorflow.python.framework.fast_tensor_util' does not match runtime version 3.6\n",
      "  return f(*args, **kwds)\n",
      "/Users/charlesmartin14/.local/lib/python3.6/site-packages/h5py/__init__.py:34: FutureWarning: Conversion of the second argument of issubdtype from `float` to `np.floating` is deprecated. In future, it will be treated as `np.float64 == np.dtype(float).type`.\n",
      "  from ._conv import register_converters as _register_converters\n"
     ]
    },
    {
     "name": "stdout",
     "output_type": "stream",
     "text": [
      "0.19.1\n"
     ]
    }
   ],
   "source": [
    "import numpy as np\n",
    "import tensorflow as tf\n",
    "import pickle, time\n",
    "from copy import deepcopy\n",
    "from shutil import copy\n",
    "from tqdm import tqdm_notebook as tqdm\n",
    "\n",
    "import matplotlib\n",
    "import matplotlib.pyplot as plt\n",
    "%matplotlib inline\n",
    "\n",
    "import sklearn\n",
    "from sklearn.decomposition import TruncatedSVD\n",
    "from sklearn.random_projection import sparse_random_matrix\n",
    "print(sklearn.__version__)"
   ]
  },
  {
   "cell_type": "code",
   "execution_count": 2,
   "metadata": {
    "ExecuteTime": {
     "end_time": "2018-02-15T18:22:56.530936Z",
     "start_time": "2018-02-15T18:22:55.732011Z"
    }
   },
   "outputs": [
    {
     "name": "stderr",
     "output_type": "stream",
     "text": [
      "Using TensorFlow backend.\n"
     ]
    },
    {
     "name": "stdout",
     "output_type": "stream",
     "text": [
      "WARNING:tensorflow:From /Users/charlesmartin14/anaconda3/lib/python3.6/site-packages/tensorflow/python/ops/nn_impl.py:666: calling reduce_mean (from tensorflow.python.ops.math_ops) with keep_dims is deprecated and will be removed in a future version.\n",
      "Instructions for updating:\n",
      "keep_dims is deprecated, use keepdims instead\n",
      "WARNING:tensorflow:From /Users/charlesmartin14/anaconda3/lib/python3.6/site-packages/keras/backend/tensorflow_backend.py:1255: calling reduce_prod (from tensorflow.python.ops.math_ops) with keep_dims is deprecated and will be removed in a future version.\n",
      "Instructions for updating:\n",
      "keep_dims is deprecated, use keepdims instead\n"
     ]
    }
   ],
   "source": [
    "import numpy as np\n",
    "import tensorflow as tf\n",
    "from keras.models import Sequential\n",
    "from keras.layers import Dense, Flatten\n",
    "from keras.layers.convolutional import Conv2D, MaxPooling2D\n",
    "from keras.layers.normalization import BatchNormalization\n",
    "from keras.callbacks import TensorBoard, EarlyStopping\n",
    "from keras.optimizers import SGD\n",
    "from keras.initializers import Constant\n",
    "import keras.backend as K\n",
    "\n",
    "\n",
    "model = Sequential()\n",
    "model.add(Conv2D(96, (5, 5), input_shape=(28, 28, 3), kernel_initializer=\n",
    "                 'glorot_normal', bias_initializer=Constant(0.1), padding=\n",
    "                 'same', activation='relu')) \n",
    "model.add(MaxPooling2D((3, 3), padding='same'))\n",
    "model.add(BatchNormalization())\n",
    "model.add(Conv2D(256, (5, 5), kernel_initializer='glorot_normal',\n",
    "                 bias_initializer=Constant(0.1), padding='same',\n",
    "                 activation='relu')) \n",
    "model.add(MaxPooling2D((3, 3), padding='same'))\n",
    "model.add(BatchNormalization())\n",
    "model.add(Flatten())\n",
    "model.add(Dense(384, kernel_initializer='glorot_normal',\n",
    "                bias_initializer=Constant(0.1), activation='relu'))\n",
    "model.add(Dense(192, kernel_initializer='glorot_normal',\n",
    "                bias_initializer=Constant(0.1), activation='relu'))\n",
    "model.add(Dense(10, kernel_initializer='glorot_normal',\n",
    "                bias_initializer=Constant(0.1), activation='softmax'))\n",
    "\n",
    "\n",
    "\n",
    "sess = tf.InteractiveSession()\n",
    "sess.run(tf.global_variables_initializer())\n",
    "\n"
   ]
  },
  {
   "cell_type": "code",
   "execution_count": 4,
   "metadata": {
    "ExecuteTime": {
     "end_time": "2018-02-15T18:23:24.245919Z",
     "start_time": "2018-02-15T18:23:24.122317Z"
    }
   },
   "outputs": [
    {
     "name": "stdout",
     "output_type": "stream",
     "text": [
      "weights/cifar10_alexnet.h5\r\n"
     ]
    }
   ],
   "source": []
  },
  {
   "cell_type": "markdown",
   "metadata": {},
   "source": [
    "### Show how to load the weight matrices\n",
    "\n",
    "#### We care about layers 7 and 8"
   ]
  },
  {
   "cell_type": "code",
   "execution_count": 5,
   "metadata": {
    "ExecuteTime": {
     "end_time": "2018-02-15T18:23:53.732971Z",
     "start_time": "2018-02-15T18:23:53.601232Z"
    }
   },
   "outputs": [
    {
     "name": "stdout",
     "output_type": "stream",
     "text": [
      "weights/cifar10_alexnet.h5\r\n"
     ]
    }
   ],
   "source": [
    "!ls weights/cifar10_alexnet.h5"
   ]
  },
  {
   "cell_type": "code",
   "execution_count": 6,
   "metadata": {
    "ExecuteTime": {
     "end_time": "2018-02-15T18:23:54.162504Z",
     "start_time": "2018-02-15T18:23:53.956229Z"
    }
   },
   "outputs": [
    {
     "name": "stdout",
     "output_type": "stream",
     "text": [
      "_________________________________________________________________\n",
      "Layer (type)                 Output Shape              Param #   \n",
      "=================================================================\n",
      "conv2d_1 (Conv2D)            (None, 28, 28, 96)        7296      \n",
      "_________________________________________________________________\n",
      "max_pooling2d_1 (MaxPooling2 (None, 10, 10, 96)        0         \n",
      "_________________________________________________________________\n",
      "batch_normalization_1 (Batch (None, 10, 10, 96)        384       \n",
      "_________________________________________________________________\n",
      "conv2d_2 (Conv2D)            (None, 10, 10, 256)       614656    \n",
      "_________________________________________________________________\n",
      "max_pooling2d_2 (MaxPooling2 (None, 4, 4, 256)         0         \n",
      "_________________________________________________________________\n",
      "batch_normalization_2 (Batch (None, 4, 4, 256)         1024      \n",
      "_________________________________________________________________\n",
      "flatten_1 (Flatten)          (None, 4096)              0         \n",
      "_________________________________________________________________\n",
      "dense_1 (Dense)              (None, 384)               1573248   \n",
      "_________________________________________________________________\n",
      "dense_2 (Dense)              (None, 192)               73920     \n",
      "_________________________________________________________________\n",
      "dense_3 (Dense)              (None, 10)                1930      \n",
      "=================================================================\n",
      "Total params: 2,272,458\n",
      "Trainable params: 2,271,754\n",
      "Non-trainable params: 704\n",
      "_________________________________________________________________\n",
      "None\n"
     ]
    }
   ],
   "source": [
    "model.load_weights('weights/cifar10_alexnet.h5')\n",
    "\n",
    "print(model.summary())"
   ]
  },
  {
   "cell_type": "code",
   "execution_count": 9,
   "metadata": {
    "ExecuteTime": {
     "end_time": "2018-02-15T18:24:46.753665Z",
     "start_time": "2018-02-15T18:24:46.577389Z"
    }
   },
   "outputs": [
    {
     "name": "stdout",
     "output_type": "stream",
     "text": [
      "10\n",
      "7\n",
      "24.322296 384\n",
      "8\n",
      "14.838495 192\n",
      "9\n",
      "5.8947635 10\n"
     ]
    }
   ],
   "source": [
    "model.load_weights(\"weights/cifar10_alexnet.h5\")\n",
    "print(len(model.layers))\n",
    "for il in [7,8,9]:\n",
    "    print(il)\n",
    "    W = model.layers[il].get_weights()[0]\n",
    "    print(np.linalg.norm(W), np.linalg.matrix_rank(W))\n",
    "        "
   ]
  },
  {
   "cell_type": "markdown",
   "metadata": {
    "ExecuteTime": {
     "end_time": "2018-02-15T18:36:19.806752Z",
     "start_time": "2018-02-15T18:36:19.801192Z"
    }
   },
   "source": [
    "### Matrix Entropy\n",
    "\n",
    "http://www.pnas.org/content/97/18/10101.full\n",
    "\n",
    "\n",
    "### <font color='red'> ensure W has trace 1 ?\n"
   ]
  },
  {
   "cell_type": "code",
   "execution_count": 48,
   "metadata": {
    "ExecuteTime": {
     "end_time": "2018-02-15T19:33:47.647877Z",
     "start_time": "2018-02-15T19:33:47.635539Z"
    }
   },
   "outputs": [],
   "source": [
    "def matrix_entropy(W, n=512):\n",
    "\n",
    "    W=W/np.trace(W)\n",
    "    svd = TruncatedSVD(n_components=n-1, n_iter=7, random_state=10)\n",
    "    svd.fit(W) \n",
    "    sv = svd.singular_values_\n",
    "    rank = np.linalg.matrix_rank(W)\n",
    "    p = sv*sv\n",
    "    p = p/np.sum(p)\n",
    "    \n",
    "    if (rank==1):\n",
    "        rank=1.000001\n",
    "    entropy = - np.sum(p*np.log(p)) / np.log(rank) \n",
    "    return entropy\n"
   ]
  },
  {
   "cell_type": "markdown",
   "metadata": {},
   "source": [
    "### Matrix Entropy as a function of Epoch for a single run\n",
    "\n",
    "### <font color='red'>NOT AT ALL INTERESTING</font>"
   ]
  },
  {
   "cell_type": "code",
   "execution_count": 18,
   "metadata": {
    "ExecuteTime": {
     "end_time": "2018-02-15T19:01:40.919682Z",
     "start_time": "2018-02-15T19:01:40.790704Z"
    }
   },
   "outputs": [
    {
     "name": "stdout",
     "output_type": "stream",
     "text": [
      "weights/alexnet.b16.id1.e0.h5  weights/alexnet.b16.id1.e26.h5\r\n",
      "weights/alexnet.b16.id1.e1.h5  weights/alexnet.b16.id1.e27.h5\r\n",
      "weights/alexnet.b16.id1.e10.h5 weights/alexnet.b16.id1.e28.h5\r\n",
      "weights/alexnet.b16.id1.e11.h5 weights/alexnet.b16.id1.e29.h5\r\n",
      "weights/alexnet.b16.id1.e12.h5 weights/alexnet.b16.id1.e3.h5\r\n",
      "weights/alexnet.b16.id1.e13.h5 weights/alexnet.b16.id1.e30.h5\r\n",
      "weights/alexnet.b16.id1.e14.h5 weights/alexnet.b16.id1.e31.h5\r\n",
      "weights/alexnet.b16.id1.e15.h5 weights/alexnet.b16.id1.e32.h5\r\n",
      "weights/alexnet.b16.id1.e16.h5 weights/alexnet.b16.id1.e33.h5\r\n",
      "weights/alexnet.b16.id1.e17.h5 weights/alexnet.b16.id1.e34.h5\r\n",
      "weights/alexnet.b16.id1.e18.h5 weights/alexnet.b16.id1.e35.h5\r\n",
      "weights/alexnet.b16.id1.e19.h5 weights/alexnet.b16.id1.e36.h5\r\n",
      "weights/alexnet.b16.id1.e2.h5  weights/alexnet.b16.id1.e37.h5\r\n",
      "weights/alexnet.b16.id1.e20.h5 weights/alexnet.b16.id1.e4.h5\r\n",
      "weights/alexnet.b16.id1.e21.h5 weights/alexnet.b16.id1.e5.h5\r\n",
      "weights/alexnet.b16.id1.e22.h5 weights/alexnet.b16.id1.e6.h5\r\n",
      "weights/alexnet.b16.id1.e23.h5 weights/alexnet.b16.id1.e7.h5\r\n",
      "weights/alexnet.b16.id1.e24.h5 weights/alexnet.b16.id1.e8.h5\r\n",
      "weights/alexnet.b16.id1.e25.h5 weights/alexnet.b16.id1.e9.h5\r\n"
     ]
    }
   ],
   "source": [
    "!ls weights/alexnet.b16.id1.e*.h5 "
   ]
  },
  {
   "cell_type": "code",
   "execution_count": 137,
   "metadata": {
    "ExecuteTime": {
     "end_time": "2018-02-16T01:27:07.758175Z",
     "start_time": "2018-02-16T01:27:07.750836Z"
    }
   },
   "outputs": [],
   "source": [
    "run_id = 1\n",
    "num_epochs = 38\n",
    "epochs = np.arange(0,num_epochs)\n",
    "\n",
    "every5_epochs = np.arange(0,num_epochs,5)\n",
    "every5_epochs = np.append(every5_epochs,37)\n",
    "\n",
    "run_ids = np.arange(1,11)"
   ]
  },
  {
   "cell_type": "code",
   "execution_count": 61,
   "metadata": {
    "ExecuteTime": {
     "end_time": "2018-02-15T19:49:01.287568Z",
     "start_time": "2018-02-15T19:48:29.518331Z"
    }
   },
   "outputs": [],
   "source": [
    "entropies_w7, entropies_w8 = [], []\n",
    "for epoch in epochs:\n",
    "    modelfile = \"weights/alexnet.b16.id{}.e{}.h5\".format(run_id,epoch)\n",
    "    model.load_weights(modelfile)\n",
    "    W7 = model.layers[7].get_weights()[0]\n",
    "    W8 = model.layers[8].get_weights()[0]\n",
    "    entropies_w7.append(matrix_entropy(W7, n=384))\n",
    "    entropies_w8.append(matrix_entropy(W8, n=192))"
   ]
  },
  {
   "cell_type": "code",
   "execution_count": 74,
   "metadata": {
    "ExecuteTime": {
     "end_time": "2018-02-15T23:34:24.043327Z",
     "start_time": "2018-02-15T23:34:23.867465Z"
    }
   },
   "outputs": [
    {
     "data": {
      "text/plain": [
       "<matplotlib.text.Text at 0x11e12a908>"
      ]
     },
     "execution_count": 74,
     "metadata": {},
     "output_type": "execute_result"
    },
    {
     "data": {
      "image/png": "[encoded data removed]",
      "text/plain": [
       "<matplotlib.figure.Figure at 0x11ef6fb70>"
      ]
     },
     "metadata": {},
     "output_type": "display_data"
    }
   ],
   "source": [
    "plt.scatter(epochs, entropies_w7, color='blue')\n",
    "plt.scatter(epochs, entropies_w8, color='teal')\n",
    "plt.title(\"Entropy as a function of Epoch for layers 7 and 8 in Mini Alexnet\")"
   ]
  },
  {
   "cell_type": "code",
   "execution_count": 105,
   "metadata": {
    "ExecuteTime": {
     "end_time": "2018-02-16T00:40:47.918751Z",
     "start_time": "2018-02-16T00:40:47.915818Z"
    }
   },
   "outputs": [],
   "source": [
    "### other weights broken"
   ]
  },
  {
   "cell_type": "code",
   "execution_count": 104,
   "metadata": {
    "ExecuteTime": {
     "end_time": "2018-02-16T00:40:38.547640Z",
     "start_time": "2018-02-16T00:40:38.402659Z"
    }
   },
   "outputs": [
    {
     "name": "stdout",
     "output_type": "stream",
     "text": [
      "weights/alexnet.b16.id1.e35.h5\r\n"
     ]
    }
   ],
   "source": [
    "!ls weights/alexnet.b16.id*.e35.h5 "
   ]
  },
  {
   "cell_type": "code",
   "execution_count": 161,
   "metadata": {
    "ExecuteTime": {
     "end_time": "2018-02-16T01:36:33.380699Z",
     "start_time": "2018-02-16T01:36:33.362383Z"
    }
   },
   "outputs": [],
   "source": [
    "import matplotlib.pylab as pylab\n",
    "pylab.rcParams['figure.figsize'] = 16, 12 "
   ]
  },
  {
   "cell_type": "markdown",
   "metadata": {},
   "source": [
    "### Something is wrong here ?"
   ]
  },
  {
   "cell_type": "code",
   "execution_count": 173,
   "metadata": {
    "ExecuteTime": {
     "end_time": "2018-02-16T02:27:05.606280Z",
     "start_time": "2018-02-16T02:26:57.886881Z"
    },
    "scrolled": true
   },
   "outputs": [
    {
     "name": "stdout",
     "output_type": "stream",
     "text": [
      "0 0 0 weights/alexnet.b16.id2.e0.h5\n",
      "1 0 1 weights/alexnet.b16.id2.e5.h5\n",
      "2 0 2 weights/alexnet.b16.id2.e10.h5\n",
      "3 1 0 weights/alexnet.b16.id2.e15.h5\n",
      "4 1 1 weights/alexnet.b16.id2.e20.h5\n",
      "5 1 2 weights/alexnet.b16.id2.e25.h5\n",
      "6 2 0 weights/alexnet.b16.id2.e30.h5\n",
      "7 2 1 weights/alexnet.b16.id2.e35.h5\n",
      "8 2 2 weights/alexnet.b16.id2.e37.h5\n"
     ]
    },
    {
     "data": {
      "image/png": "[encoded data removed]",
      "text/plain": [
       "<matplotlib.figure.Figure at 0x11fc09d68>"
      ]
     },
     "metadata": {},
     "output_type": "display_data"
    }
   ],
   "source": [
    "f, axes = plt.subplots(3, 3)\n",
    "run_id =2\n",
    "\n",
    "for idx, epoch in enumerate(every5_epochs):\n",
    "    eigenvalues = []\n",
    "    \n",
    "\n",
    "    #for run_id in [1]:\n",
    "    modelfile = \"weights/alexnet.b16.id{}.e{}.h5\".format(run_id,epoch)\n",
    "    model.load_weights(modelfile)\n",
    "    W7 = model.layers[7].get_weights()[0]\n",
    "    n=384\n",
    "    W = W7 / np.linalg.norm(W)\n",
    "    svd = TruncatedSVD(n_components=n-1, n_iter=7, random_state=10)\n",
    "    svd.fit(W) \n",
    "    sv = svd.singular_values_\n",
    "    eigenvalues.append(sv*sv)\n",
    "\n",
    "    iay = idx % 3\n",
    "    iax = int(idx / 3)\n",
    "\n",
    "    print(idx, iax, iay, modelfile)\n",
    "    subplot = axes[iax,iay]\n",
    "    subplot.hist(eigenvalues, bins=20, alpha=0.25, color='blue');\n",
    "    subplot.set_title(\"Epoch {}\".format(epoch));\n",
    "\n",
    "    \n",
    "f.subplots_adjust(hspace=0.3)\n",
    "plt.show()\n"
   ]
  },
  {
   "cell_type": "code",
   "execution_count": 110,
   "metadata": {
    "ExecuteTime": {
     "end_time": "2018-02-16T01:18:44.657006Z",
     "start_time": "2018-02-16T01:18:44.651972Z"
    }
   },
   "outputs": [
    {
     "data": {
      "text/plain": [
       "(3, 3)"
      ]
     },
     "execution_count": 110,
     "metadata": {},
     "output_type": "execute_result"
    }
   ],
   "source": []
  },
  {
   "cell_type": "code",
   "execution_count": 166,
   "metadata": {
    "ExecuteTime": {
     "end_time": "2018-02-16T01:46:06.735519Z",
     "start_time": "2018-02-16T01:46:01.249156Z"
    }
   },
   "outputs": [
    {
     "name": "stdout",
     "output_type": "stream",
     "text": [
      "0 0 0 weights/alexnet.b16.id1.e0.h5\n",
      "1 0 1 weights/alexnet.b16.id1.e5.h5\n",
      "2 0 2 weights/alexnet.b16.id1.e10.h5\n",
      "3 1 0 weights/alexnet.b16.id1.e15.h5\n",
      "4 1 1 weights/alexnet.b16.id1.e20.h5\n",
      "5 1 2 weights/alexnet.b16.id1.e25.h5\n",
      "6 2 0 weights/alexnet.b16.id1.e30.h5\n",
      "7 2 1 weights/alexnet.b16.id1.e35.h5\n",
      "8 2 2 weights/alexnet.b16.id1.e37.h5\n"
     ]
    },
    {
     "data": {
      "image/png": "[encoded data removed]",
      "text/plain": [
       "<matplotlib.figure.Figure at 0x120117940>"
      ]
     },
     "metadata": {},
     "output_type": "display_data"
    }
   ],
   "source": [
    "n=192\n",
    "\n",
    "f, axes = plt.subplots(3, 3)\n",
    "for idx, epoch in enumerate(every5_epochs):\n",
    "    eigenvalues = []\n",
    "    \n",
    "\n",
    "    #for run_id in [1]:\n",
    "    modelfile = \"weights/alexnet.b16.id{}.e{}.h5\".format(run_id,epoch)\n",
    "    model.load_weights(modelfile)\n",
    "    W8 = model.layers[7].get_weights()[0]\n",
    "    W = W8 / np.linalg.norm(W)\n",
    "    svd = TruncatedSVD(n_components=n-1, n_iter=7, random_state=10)\n",
    "    svd.fit(W) \n",
    "    sv = svd.singular_values_\n",
    "    eigenvalues.append(sv*sv)\n",
    "\n",
    "    iay = idx % 3\n",
    "    iax = int(idx / 3)\n",
    "\n",
    "    print(idx, iax, iay, modelfile)\n",
    "    subplot = axes[iax,iay]\n",
    "    subplot.hist(eigenvalues, bins=20, alpha=0.25, color='green');\n",
    "    subplot.set_title(\"Epoch {}\".format(epoch));\n",
    "\n",
    "    \n",
    "f.subplots_adjust(hspace=0.3)\n",
    "plt.show()\n"
   ]
  },
  {
   "cell_type": "code",
   "execution_count": 180,
   "metadata": {
    "ExecuteTime": {
     "end_time": "2018-02-16T02:40:47.436957Z",
     "start_time": "2018-02-16T02:40:47.428389Z"
    }
   },
   "outputs": [],
   "source": [
    "import matplotlib.pylab as pylab\n",
    "pylab.rcParams['figure.figsize'] = 16, 12 "
   ]
  },
  {
   "cell_type": "code",
   "execution_count": 181,
   "metadata": {
    "ExecuteTime": {
     "end_time": "2018-02-16T02:41:16.802192Z",
     "start_time": "2018-02-16T02:40:47.690574Z"
    },
    "scrolled": true
   },
   "outputs": [
    {
     "name": "stdout",
     "output_type": "stream",
     "text": [
      "0 0 0 weights/alexnet.b16.id2.e0.h5\n",
      "1 0 1 weights/alexnet.b16.id2.e1.h5\n",
      "2 0 2 weights/alexnet.b16.id2.e2.h5\n",
      "3 0 3 weights/alexnet.b16.id2.e3.h5\n",
      "4 0 4 weights/alexnet.b16.id2.e4.h5\n",
      "5 0 5 weights/alexnet.b16.id2.e5.h5\n",
      "6 1 0 weights/alexnet.b16.id2.e6.h5\n",
      "7 1 1 weights/alexnet.b16.id2.e7.h5\n",
      "8 1 2 weights/alexnet.b16.id2.e8.h5\n",
      "9 1 3 weights/alexnet.b16.id2.e9.h5\n",
      "10 1 4 weights/alexnet.b16.id2.e10.h5\n",
      "11 1 5 weights/alexnet.b16.id2.e11.h5\n",
      "12 2 0 weights/alexnet.b16.id2.e12.h5\n",
      "13 2 1 weights/alexnet.b16.id2.e13.h5\n",
      "14 2 2 weights/alexnet.b16.id2.e14.h5\n",
      "15 2 3 weights/alexnet.b16.id2.e15.h5\n",
      "16 2 4 weights/alexnet.b16.id2.e16.h5\n",
      "17 2 5 weights/alexnet.b16.id2.e17.h5\n",
      "18 3 0 weights/alexnet.b16.id2.e18.h5\n",
      "19 3 1 weights/alexnet.b16.id2.e19.h5\n",
      "20 3 2 weights/alexnet.b16.id2.e20.h5\n",
      "21 3 3 weights/alexnet.b16.id2.e21.h5\n",
      "22 3 4 weights/alexnet.b16.id2.e22.h5\n",
      "23 3 5 weights/alexnet.b16.id2.e23.h5\n",
      "24 4 0 weights/alexnet.b16.id2.e24.h5\n",
      "25 4 1 weights/alexnet.b16.id2.e25.h5\n",
      "26 4 2 weights/alexnet.b16.id2.e26.h5\n",
      "27 4 3 weights/alexnet.b16.id2.e27.h5\n",
      "28 4 4 weights/alexnet.b16.id2.e28.h5\n",
      "29 4 5 weights/alexnet.b16.id2.e29.h5\n",
      "30 5 0 weights/alexnet.b16.id2.e30.h5\n",
      "31 5 1 weights/alexnet.b16.id2.e31.h5\n",
      "32 5 2 weights/alexnet.b16.id2.e32.h5\n",
      "33 5 3 weights/alexnet.b16.id2.e33.h5\n",
      "34 5 4 weights/alexnet.b16.id2.e34.h5\n",
      "35 5 5 weights/alexnet.b16.id2.e35.h5\n"
     ]
    },
    {
     "data": {
      "image/png": "[encoded data removed]",
      "text/plain": [
       "<matplotlib.figure.Figure at 0x12405f7f0>"
      ]
     },
     "metadata": {},
     "output_type": "display_data"
    }
   ],
   "source": [
    "f, axes = plt.subplots(6, 6)\n",
    "\n",
    "for idx, epoch in enumerate(np.arange(0,36)):\n",
    "    eigenvalues = []\n",
    "    \n",
    "\n",
    "    #for run_id in [1]:\n",
    "    modelfile = \"weights/alexnet.b16.id{}.e{}.h5\".format(run_id,epoch)\n",
    "    model.load_weights(modelfile)\n",
    "    W7 = model.layers[7].get_weights()[0]\n",
    "    n=384\n",
    "    W = W7 / np.linalg.norm(W)\n",
    "    svd = TruncatedSVD(n_components=n-1, n_iter=7, random_state=10)\n",
    "    svd.fit(W) \n",
    "    sv = svd.singular_values_\n",
    "    eigenvalues.append(sv*sv)\n",
    "\n",
    "    iay = idx % 6\n",
    "    iax = int(idx / 6)\n",
    "\n",
    "    print(idx, iax, iay, modelfile)\n",
    "    subplot = axes[iax,iay]\n",
    "    subplot.hist(eigenvalues, bins=20, alpha=0.25, color='blue');\n",
    "    subplot.set_title(\"Epoch {}\".format(epoch));\n",
    "\n",
    "    \n",
    "f.subplots_adjust(hspace=0.3)\n",
    "plt.show()\n"
   ]
  },
  {
   "cell_type": "markdown",
   "metadata": {},
   "source": [
    "### TODO\n",
    "\n",
    "- make this into a 3d Plot\n",
    "- average over all ids\n",
    "- repeat for MLP3\n"
   ]
  },
  {
   "cell_type": "code",
   "execution_count": 174,
   "metadata": {
    "ExecuteTime": {
     "end_time": "2018-02-16T02:29:40.577510Z",
     "start_time": "2018-02-16T02:29:40.574767Z"
    }
   },
   "outputs": [],
   "source": [
    "modelfiles = [\"alexnet.b16.id2.final.h5\" ]\n",
    "colors = [\"green\", \"blue\"]"
   ]
  },
  {
   "cell_type": "code",
   "execution_count": 175,
   "metadata": {
    "ExecuteTime": {
     "end_time": "2018-02-16T02:29:42.192210Z",
     "start_time": "2018-02-16T02:29:41.159136Z"
    }
   },
   "outputs": [
    {
     "name": "stdout",
     "output_type": "stream",
     "text": [
      "alexnet.b16.id2.final.h5\n"
     ]
    },
    {
     "data": {
      "image/png": "[encoded data removed]",
      "text/plain": [
       "<matplotlib.figure.Figure at 0x1212e5a58>"
      ]
     },
     "metadata": {},
     "output_type": "display_data"
    }
   ],
   "source": [
    "for modelfile, color in zip(modelfiles, colors):\n",
    "    print(modelfile)\n",
    "    model.load_weights(\"weights/{}\".format(modelfile))\n",
    "    W = model.layers[7].get_weights()[0]\n",
    "    n = 384\n",
    "    W = W / np.linalg.norm(W)\n",
    "    svd = TruncatedSVD(n_components=n-1, n_iter=7, random_state=10)\n",
    "    svd.fit(W) \n",
    "    sv = svd.singular_values_\n",
    "    ev = sv*sv\n",
    "    plt.hist(ev, bins=20, alpha=0.25, color=color);\n",
    "    plt.title(modelfile)\n",
    "    plt.show()"
   ]
  },
  {
   "cell_type": "code",
   "execution_count": 40,
   "metadata": {
    "ExecuteTime": {
     "end_time": "2018-02-15T19:28:01.257799Z",
     "start_time": "2018-02-15T19:28:01.254558Z"
    }
   },
   "outputs": [],
   "source": [
    "modelfiles = [\"cifar10_alexnet.h5\", \"alexnet.b2.final.h5\", \"cifar10_alexnet_wd.h5\",\"cifar10_alexnet_rand_labels.h5\", \"alexnet.b512.final.h5\" ,\"alexnet.b16.rand100.final.h5\", \"alexnet.b2.rand100.final.h5\"]\n",
    "colors = [\"green\", \"blue\", \"red\", \"orange\", \"cyan\", \"blue\", \"magenta\"]"
   ]
  },
  {
   "cell_type": "code",
   "execution_count": 41,
   "metadata": {
    "ExecuteTime": {
     "end_time": "2018-02-15T19:28:09.941052Z",
     "start_time": "2018-02-15T19:28:03.960638Z"
    }
   },
   "outputs": [
    {
     "name": "stdout",
     "output_type": "stream",
     "text": [
      "cifar10_alexnet.h5\n"
     ]
    },
    {
     "data": {
      "image/png": "[encoded data removed]",
      "text/plain": [
       "<matplotlib.figure.Figure at 0x11e983a90>"
      ]
     },
     "metadata": {},
     "output_type": "display_data"
    },
    {
     "name": "stdout",
     "output_type": "stream",
     "text": [
      "alexnet.b2.final.h5\n"
     ]
    },
    {
     "data": {
      "image/png": "[encoded data removed]",
      "text/plain": [
       "<matplotlib.figure.Figure at 0x11cf829b0>"
      ]
     },
     "metadata": {},
     "output_type": "display_data"
    },
    {
     "name": "stdout",
     "output_type": "stream",
     "text": [
      "cifar10_alexnet_wd.h5\n"
     ]
    },
    {
     "data": {
      "image/png": "[encoded data removed]",
      "text/plain": [
       "<matplotlib.figure.Figure at 0x11e1ea518>"
      ]
     },
     "metadata": {},
     "output_type": "display_data"
    },
    {
     "name": "stdout",
     "output_type": "stream",
     "text": [
      "cifar10_alexnet_rand_labels.h5\n"
     ]
    },
    {
     "data": {
      "image/png": "[encoded data removed]",
      "text/plain": [
       "<matplotlib.figure.Figure at 0x11e3f0fd0>"
      ]
     },
     "metadata": {},
     "output_type": "display_data"
    },
    {
     "name": "stdout",
     "output_type": "stream",
     "text": [
      "alexnet.b512.final.h5\n"
     ]
    },
    {
     "data": {
      "image/png": "[encoded data removed]",
      "text/plain": [
       "<matplotlib.figure.Figure at 0x11e0d6940>"
      ]
     },
     "metadata": {},
     "output_type": "display_data"
    },
    {
     "name": "stdout",
     "output_type": "stream",
     "text": [
      "alexnet.b16.rand100.final.h5\n"
     ]
    },
    {
     "data": {
      "image/png": "[encoded data removed]",
      "text/plain": [
       "<matplotlib.figure.Figure at 0x11e93b438>"
      ]
     },
     "metadata": {},
     "output_type": "display_data"
    },
    {
     "name": "stdout",
     "output_type": "stream",
     "text": [
      "alexnet.b2.rand100.final.h5\n"
     ]
    },
    {
     "data": {
      "image/png": "[encoded data removed]",
      "text/plain": [
       "<matplotlib.figure.Figure at 0x11cf06240>"
      ]
     },
     "metadata": {},
     "output_type": "display_data"
    }
   ],
   "source": [
    "for modelfile, color in zip(modelfiles, colors):\n",
    "    print(modelfile)\n",
    "    model.load_weights(\"weights/{}\".format(modelfile))\n",
    "    W = model.layers[7].get_weights()[0]\n",
    "    n = 384\n",
    "    W = W / np.linalg.norm(W)\n",
    "    svd = TruncatedSVD(n_components=n-1, n_iter=7, random_state=10)\n",
    "    svd.fit(W) \n",
    "    sv = svd.singular_values_\n",
    "    plt.hist(sv, bins=20, alpha=0.25, color=color);\n",
    "    plt.title(modelfile)\n",
    "    plt.show()"
   ]
  },
  {
   "cell_type": "code",
   "execution_count": null,
   "metadata": {},
   "outputs": [],
   "source": []
  },
  {
   "cell_type": "code",
   "execution_count": null,
   "metadata": {},
   "outputs": [],
   "source": []
  },
  {
   "cell_type": "code",
   "execution_count": null,
   "metadata": {},
   "outputs": [],
   "source": []
  }
 ],
 "metadata": {
  "kernelspec": {
   "display_name": "Python 3",
   "language": "python",
   "name": "python3"
  },
  "language_info": {
   "codemirror_mode": {
    "name": "ipython",
    "version": 3
   },
   "file_extension": ".py",
   "mimetype": "text/x-python",
   "name": "python",
   "nbconvert_exporter": "python",
   "pygments_lexer": "ipython3",
   "version": "3.6.0"
  }
 },
 "nbformat": 4,
 "nbformat_minor": 2
}
