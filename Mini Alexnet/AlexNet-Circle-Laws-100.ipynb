{
 "cells": [
  {
   "cell_type": "markdown",
   "metadata": {
    "ExecuteTime": {
     "end_time": "2018-01-13T05:27:28.561138Z",
     "start_time": "2018-01-13T05:27:28.557329Z"
    }
   },
   "source": [
    "\n",
    "### Marcenko-Pastur Law / Quarter Circle Law\n",
    "\n",
    "http://math.mit.edu/~edelman/publications/random_matrix_theory_innovative.pdf\n",
    "\n",
    "\n",
    "This time, I ensure W has norm 1\n"
   ]
  },
  {
   "cell_type": "code",
   "execution_count": 1,
   "metadata": {
    "ExecuteTime": {
     "end_time": "2018-01-27T04:47:57.881391Z",
     "start_time": "2018-01-27T04:47:54.770098Z"
    }
   },
   "outputs": [
    {
     "name": "stderr",
     "output_type": "stream",
     "text": [
      "/Users/charlesmartin14/anaconda3/lib/python3.6/importlib/_bootstrap.py:205: RuntimeWarning: compiletime version 3.5 of module 'tensorflow.python.framework.fast_tensor_util' does not match runtime version 3.6\n",
      "  return f(*args, **kwds)\n"
     ]
    },
    {
     "name": "stdout",
     "output_type": "stream",
     "text": [
      "0.19.1\n"
     ]
    }
   ],
   "source": [
    "import numpy as np\n",
    "import tensorflow as tf\n",
    "import pickle, time\n",
    "from copy import deepcopy\n",
    "from shutil import copy\n",
    "from tqdm import tqdm_notebook as tqdm\n",
    "\n",
    "import matplotlib\n",
    "import matplotlib.pyplot as plt\n",
    "%matplotlib inline\n",
    "\n",
    "import sklearn\n",
    "from sklearn.decomposition import TruncatedSVD\n",
    "from sklearn.random_projection import sparse_random_matrix\n",
    "print(sklearn.__version__)"
   ]
  },
  {
   "cell_type": "code",
   "execution_count": 2,
   "metadata": {
    "ExecuteTime": {
     "end_time": "2018-01-27T04:47:58.786816Z",
     "start_time": "2018-01-27T04:47:57.884500Z"
    }
   },
   "outputs": [
    {
     "name": "stderr",
     "output_type": "stream",
     "text": [
      "Using TensorFlow backend.\n"
     ]
    },
    {
     "name": "stdout",
     "output_type": "stream",
     "text": [
      "WARNING:tensorflow:From /Users/charlesmartin14/anaconda3/lib/python3.6/site-packages/tensorflow/python/ops/nn_impl.py:666: calling reduce_mean (from tensorflow.python.ops.math_ops) with keep_dims is deprecated and will be removed in a future version.\n",
      "Instructions for updating:\n",
      "keep_dims is deprecated, use keepdims instead\n",
      "WARNING:tensorflow:From /Users/charlesmartin14/anaconda3/lib/python3.6/site-packages/keras/backend/tensorflow_backend.py:1255: calling reduce_prod (from tensorflow.python.ops.math_ops) with keep_dims is deprecated and will be removed in a future version.\n",
      "Instructions for updating:\n",
      "keep_dims is deprecated, use keepdims instead\n"
     ]
    }
   ],
   "source": [
    "import numpy as np\n",
    "import tensorflow as tf\n",
    "from keras.models import Sequential\n",
    "from keras.layers import Dense, Flatten\n",
    "from keras.layers.convolutional import Conv2D, MaxPooling2D\n",
    "from keras.layers.normalization import BatchNormalization\n",
    "from keras.callbacks import TensorBoard, EarlyStopping\n",
    "from keras.optimizers import SGD\n",
    "from keras.initializers import Constant\n",
    "import keras.backend as K\n",
    "\n",
    "\n",
    "model = Sequential()\n",
    "model.add(Conv2D(96, (5, 5), input_shape=(28, 28, 3), kernel_initializer=\n",
    "                 'glorot_normal', bias_initializer=Constant(0.1), padding=\n",
    "                 'same', activation='relu')) \n",
    "model.add(MaxPooling2D((3, 3), padding='same'))\n",
    "model.add(BatchNormalization())\n",
    "model.add(Conv2D(256, (5, 5), kernel_initializer='glorot_normal',\n",
    "                 bias_initializer=Constant(0.1), padding='same',\n",
    "                 activation='relu')) \n",
    "model.add(MaxPooling2D((3, 3), padding='same'))\n",
    "model.add(BatchNormalization())\n",
    "model.add(Flatten())\n",
    "model.add(Dense(384, kernel_initializer='glorot_normal',\n",
    "                bias_initializer=Constant(0.1), activation='relu'))\n",
    "model.add(Dense(192, kernel_initializer='glorot_normal',\n",
    "                bias_initializer=Constant(0.1), activation='relu'))\n",
    "model.add(Dense(10, kernel_initializer='glorot_normal',\n",
    "                bias_initializer=Constant(0.1), activation='softmax'))\n",
    "\n",
    "\n",
    "\n",
    "sess = tf.InteractiveSession()\n",
    "sess.run(tf.global_variables_initializer())\n",
    "\n"
   ]
  },
  {
   "cell_type": "code",
   "execution_count": 3,
   "metadata": {
    "ExecuteTime": {
     "end_time": "2018-01-27T04:47:58.967731Z",
     "start_time": "2018-01-27T04:47:58.789142Z"
    }
   },
   "outputs": [
    {
     "name": "stdout",
     "output_type": "stream",
     "text": [
      "_________________________________________________________________\n",
      "Layer (type)                 Output Shape              Param #   \n",
      "=================================================================\n",
      "conv2d_1 (Conv2D)            (None, 28, 28, 96)        7296      \n",
      "_________________________________________________________________\n",
      "max_pooling2d_1 (MaxPooling2 (None, 10, 10, 96)        0         \n",
      "_________________________________________________________________\n",
      "batch_normalization_1 (Batch (None, 10, 10, 96)        384       \n",
      "_________________________________________________________________\n",
      "conv2d_2 (Conv2D)            (None, 10, 10, 256)       614656    \n",
      "_________________________________________________________________\n",
      "max_pooling2d_2 (MaxPooling2 (None, 4, 4, 256)         0         \n",
      "_________________________________________________________________\n",
      "batch_normalization_2 (Batch (None, 4, 4, 256)         1024      \n",
      "_________________________________________________________________\n",
      "flatten_1 (Flatten)          (None, 4096)              0         \n",
      "_________________________________________________________________\n",
      "dense_1 (Dense)              (None, 384)               1573248   \n",
      "_________________________________________________________________\n",
      "dense_2 (Dense)              (None, 192)               73920     \n",
      "_________________________________________________________________\n",
      "dense_3 (Dense)              (None, 10)                1930      \n",
      "=================================================================\n",
      "Total params: 2,272,458\n",
      "Trainable params: 2,271,754\n",
      "Non-trainable params: 704\n",
      "_________________________________________________________________\n",
      "None\n"
     ]
    }
   ],
   "source": [
    "model.load_weights('weights/cifar10_alexnet.h5')\n",
    "\n",
    "print(model.summary())"
   ]
  },
  {
   "cell_type": "code",
   "execution_count": 4,
   "metadata": {
    "ExecuteTime": {
     "end_time": "2018-01-27T04:47:58.974104Z",
     "start_time": "2018-01-27T04:47:58.970335Z"
    }
   },
   "outputs": [],
   "source": [
    "modelfiles = [\"cifar10_alexnet.h5\", \"alexnet.b2.final.h5\", \"cifar10_alexnet_wd.h5\",\"cifar10_alexnet_rand_labels.h5\", \"alexnet.b512.final.h5\" ,\"alexnet.b16.rand100.final.h5\", \"alexnet.b2.rand100.final.h5\"]\n",
    "colors = [\"green\", \"blue\", \"red\", \"orange\", \"cyan\", \"blue\", \"magenta\"]"
   ]
  },
  {
   "cell_type": "code",
   "execution_count": 5,
   "metadata": {
    "ExecuteTime": {
     "end_time": "2018-01-27T04:47:59.169443Z",
     "start_time": "2018-01-27T04:47:58.976422Z"
    }
   },
   "outputs": [
    {
     "name": "stdout",
     "output_type": "stream",
     "text": [
      "10\n",
      "7\n",
      "24.3223 384\n",
      "8\n",
      "14.8385 192\n",
      "9\n",
      "5.89476 10\n"
     ]
    }
   ],
   "source": [
    "model.load_weights(\"weights/cifar10_alexnet.h5\")\n",
    "print(len(model.layers))\n",
    "for il in [7,8,9]:\n",
    "    print(il)\n",
    "    W = model.layers[il].get_weights()[0]\n",
    "    print(np.linalg.norm(W), np.linalg.matrix_rank(W))\n",
    "        "
   ]
  },
  {
   "cell_type": "code",
   "execution_count": 6,
   "metadata": {
    "ExecuteTime": {
     "end_time": "2018-01-27T04:48:08.312820Z",
     "start_time": "2018-01-27T04:47:59.171590Z"
    }
   },
   "outputs": [
    {
     "name": "stdout",
     "output_type": "stream",
     "text": [
      "cifar10_alexnet.h5\n"
     ]
    },
    {
     "data": {
      "image/png": "[encoded data removed]",
      "text/plain": [
       "<matplotlib.figure.Figure at 0x11c008438>"
      ]
     },
     "metadata": {},
     "output_type": "display_data"
    },
    {
     "name": "stdout",
     "output_type": "stream",
     "text": [
      "alexnet.b2.final.h5\n"
     ]
    },
    {
     "data": {
      "image/png": "[encoded data removed]",
      "text/plain": [
       "<matplotlib.figure.Figure at 0x11c0b10f0>"
      ]
     },
     "metadata": {},
     "output_type": "display_data"
    },
    {
     "name": "stdout",
     "output_type": "stream",
     "text": [
      "cifar10_alexnet_wd.h5\n"
     ]
    },
    {
     "data": {
      "image/png": "[encoded data removed]",
      "text/plain": [
       "<matplotlib.figure.Figure at 0x11c19f5c0>"
      ]
     },
     "metadata": {},
     "output_type": "display_data"
    },
    {
     "name": "stdout",
     "output_type": "stream",
     "text": [
      "cifar10_alexnet_rand_labels.h5\n"
     ]
    },
    {
     "data": {
      "image/png": "[encoded data removed]",
      "text/plain": [
       "<matplotlib.figure.Figure at 0x11c178e48>"
      ]
     },
     "metadata": {},
     "output_type": "display_data"
    },
    {
     "name": "stdout",
     "output_type": "stream",
     "text": [
      "alexnet.b512.final.h5\n"
     ]
    },
    {
     "data": {
      "image/png": "[encoded data removed]",
      "text/plain": [
       "<matplotlib.figure.Figure at 0x11c335ef0>"
      ]
     },
     "metadata": {},
     "output_type": "display_data"
    },
    {
     "name": "stdout",
     "output_type": "stream",
     "text": [
      "alexnet.b16.rand100.final.h5\n"
     ]
    },
    {
     "data": {
      "image/png": "[encoded data removed]",
      "text/plain": [
       "<matplotlib.figure.Figure at 0x10fcefac8>"
      ]
     },
     "metadata": {},
     "output_type": "display_data"
    },
    {
     "name": "stdout",
     "output_type": "stream",
     "text": [
      "alexnet.b2.rand100.final.h5\n"
     ]
    },
    {
     "data": {
      "image/png": "[encoded data removed]",
      "text/plain": [
       "<matplotlib.figure.Figure at 0x11c4116a0>"
      ]
     },
     "metadata": {},
     "output_type": "display_data"
    }
   ],
   "source": [
    "for modelfile, color in zip(modelfiles, colors):\n",
    "    print(modelfile)\n",
    "    model.load_weights(\"weights/{}\".format(modelfile))\n",
    "    W = model.layers[7].get_weights()[0]\n",
    "    n = 384\n",
    "    W = W / np.linalg.norm(W)\n",
    "    svd = TruncatedSVD(n_components=n-1, n_iter=7, random_state=10)\n",
    "    svd.fit(W) \n",
    "    sv = svd.singular_values_\n",
    "    plt.hist(sv, bins=20, alpha=0.25, color=color);\n",
    "    plt.title(modelfile)\n",
    "    plt.show()"
   ]
  },
  {
   "cell_type": "code",
   "execution_count": 115,
   "metadata": {
    "ExecuteTime": {
     "end_time": "2018-01-27T06:48:42.483986Z",
     "start_time": "2018-01-27T06:47:15.593745Z"
    }
   },
   "outputs": [
    {
     "name": "stdout",
     "output_type": "stream",
     "text": [
      "\n"
     ]
    }
   ],
   "source": [
    "all_singular_values = []\n",
    "all_0_vectors = []\n",
    "\n",
    "all_bleeding_vectors = []\n",
    "all_wigner_vectors = []\n",
    "\n",
    "with tqdm(total=75) as pbar:\n",
    "    for idx in range(1,76):\n",
    "        modelfile = \"weights/alexnet.b16.id{}.final.h5\".format(idx)\n",
    "        model.load_weights(modelfile)\n",
    "        W = model.layers[7].get_weights()[0]\n",
    "        n = 384\n",
    "        W = W / np.linalg.norm(W)\n",
    "        svd = TruncatedSVD(n_components=n-1, n_iter=7, random_state=10)\n",
    "        svd.fit(W) \n",
    "        sv = svd.singular_values_\n",
    "        all_singular_values.extend(sv)\n",
    "        all_0_vectors.append(svd.components_[0])\n",
    "        \n",
    "        for  val, vec in zip(sv, svd.components_):\n",
    "            if (val) > 0.07:\n",
    "                all_bleeding_vectors.append(vec)\n",
    "            else:\n",
    "                all_wigner_vectors.append(vec)\n",
    "            \n",
    "\n",
    "        pbar.update(1)\n"
   ]
  },
  {
   "cell_type": "code",
   "execution_count": 18,
   "metadata": {
    "ExecuteTime": {
     "end_time": "2018-01-27T04:52:30.633831Z",
     "start_time": "2018-01-27T04:52:30.266297Z"
    }
   },
   "outputs": [
    {
     "data": {
      "image/png": "[encoded data removed]",
      "text/plain": [
       "<matplotlib.figure.Figure at 0x11c7546a0>"
      ]
     },
     "metadata": {},
     "output_type": "display_data"
    }
   ],
   "source": [
    "plt.hist(all_singular_values, bins=100);\n",
    "plt.title(modelfile)\n",
    "plt.title('75 runs of Mini Alex Net, batch size 16')\n",
    "plt.show()\n"
   ]
  },
  {
   "cell_type": "code",
   "execution_count": 135,
   "metadata": {
    "ExecuteTime": {
     "end_time": "2018-01-27T18:57:50.989533Z",
     "start_time": "2018-01-27T18:57:15.517452Z"
    }
   },
   "outputs": [
    {
     "name": "stdout",
     "output_type": "stream",
     "text": [
      "\n"
     ]
    }
   ],
   "source": [
    "rand_singular_values = []\n",
    "rand_0_vectors = []\n",
    "\n",
    "with tqdm(total=49) as pbar:\n",
    "    for idx in range(1,50):\n",
    "        modelfile = \"weights/alexnet.b16.rand100.id{}.final.h5\".format(idx)\n",
    "        model.load_weights(modelfile)\n",
    "        W = model.layers[7].get_weights()[0]\n",
    "        n = 384\n",
    "        W = W / np.linalg.norm(W)\n",
    "        svd = TruncatedSVD(n_components=n-1, n_iter=7, random_state=10)\n",
    "        svd.fit(W) \n",
    "        sv = svd.singular_values_\n",
    "        rand_singular_values.extend(sv)\n",
    "        rand_0_vectors.append(svd.components_[0])\n",
    "        pbar.update(1)"
   ]
  },
  {
   "cell_type": "code",
   "execution_count": 136,
   "metadata": {
    "ExecuteTime": {
     "end_time": "2018-01-27T18:59:00.343644Z",
     "start_time": "2018-01-27T18:59:00.046987Z"
    }
   },
   "outputs": [
    {
     "data": {
      "image/png": "[encoded data removed]",
      "text/plain": [
       "<matplotlib.figure.Figure at 0x12ba1e390>"
      ]
     },
     "metadata": {},
     "output_type": "display_data"
    }
   ],
   "source": [
    "plt.hist(rand_singular_values, bins=100);\n",
    "plt.title(modelfile)\n",
    "plt.title(\"50 runs of Mini Alex Net, random labels, batch size 16\")\n",
    "plt.show()"
   ]
  },
  {
   "cell_type": "code",
   "execution_count": 138,
   "metadata": {
    "ExecuteTime": {
     "end_time": "2018-01-27T19:00:27.760546Z",
     "start_time": "2018-01-27T19:00:27.264541Z"
    }
   },
   "outputs": [
    {
     "data": {
      "image/png": "[encoded data removed]",
      "text/plain": [
       "<matplotlib.figure.Figure at 0x12c0c5c18>"
      ]
     },
     "metadata": {},
     "output_type": "display_data"
    }
   ],
   "source": [
    "plt.hist(all_singular_values, bins=100, alpha=0.5);\n",
    "plt.hist(rand_singular_values, bins=100, alpha=0.5);\n",
    "plt.title('Compare 75 runs Mini Alex Net vs 50 runs w/random labels, batch size 16')\n",
    "plt.show()"
   ]
  },
  {
   "cell_type": "markdown",
   "metadata": {},
   "source": [
    "### Analysis of principle vector"
   ]
  },
  {
   "cell_type": "code",
   "execution_count": 52,
   "metadata": {
    "ExecuteTime": {
     "end_time": "2018-01-27T05:18:25.408621Z",
     "start_time": "2018-01-27T05:18:24.987778Z"
    }
   },
   "outputs": [
    {
     "data": {
      "text/plain": [
       "<matplotlib.text.Text at 0x11c44b160>"
      ]
     },
     "execution_count": 52,
     "metadata": {},
     "output_type": "execute_result"
    },
    {
     "data": {
      "image/png": "[encoded data removed]",
      "text/plain": [
       "<matplotlib.figure.Figure at 0x11c510780>"
      ]
     },
     "metadata": {},
     "output_type": "display_data"
    }
   ],
   "source": [
    "vec_comps = []\n",
    "for vec in all_0_vectors:\n",
    "    vec_comps.extend(vec)\n",
    "plt.hist(vec_comps, bins=100);\n",
    "plt.title('distribution of components of principle vector')"
   ]
  },
  {
   "cell_type": "code",
   "execution_count": 139,
   "metadata": {
    "ExecuteTime": {
     "end_time": "2018-01-27T19:01:37.365328Z",
     "start_time": "2018-01-27T19:01:37.041952Z"
    }
   },
   "outputs": [
    {
     "data": {
      "text/plain": [
       "<matplotlib.text.Text at 0x12e572668>"
      ]
     },
     "execution_count": 139,
     "metadata": {},
     "output_type": "execute_result"
    },
    {
     "data": {
      "image/png": "[encoded data removed]",
      "text/plain": [
       "<matplotlib.figure.Figure at 0x12c80edd8>"
      ]
     },
     "metadata": {},
     "output_type": "display_data"
    }
   ],
   "source": [
    "rand_comps = []\n",
    "for vec in rand_0_vectors:\n",
    "    rand_comps.extend(vec)\n",
    "plt.hist(rand_comps, bins=100);\n",
    "plt.title('distribution of components of random p-vector')"
   ]
  },
  {
   "cell_type": "code",
   "execution_count": 141,
   "metadata": {
    "ExecuteTime": {
     "end_time": "2018-01-27T19:02:14.965189Z",
     "start_time": "2018-01-27T19:02:14.481444Z"
    }
   },
   "outputs": [
    {
     "data": {
      "image/png": "[encoded data removed]",
      "text/plain": [
       "<matplotlib.figure.Figure at 0x12e8695c0>"
      ]
     },
     "metadata": {},
     "output_type": "display_data"
    }
   ],
   "source": [
    "plt.hist(rand_comps, bins=100, alpha=0.5);\n",
    "plt.hist(vec_comps, bins=100, alpha=0.5);\n"
   ]
  },
  {
   "cell_type": "markdown",
   "metadata": {},
   "source": [
    "### Norms"
   ]
  },
  {
   "cell_type": "code",
   "execution_count": 142,
   "metadata": {
    "ExecuteTime": {
     "end_time": "2018-01-27T19:02:26.788884Z",
     "start_time": "2018-01-27T19:02:26.777642Z"
    }
   },
   "outputs": [],
   "source": [
    "all_norm_ratios = []\n",
    "rand_norm_ratios = []\n",
    "\n",
    "for vec in all_0_vectors:\n",
    "    nr = np.linalg.norm(vec, ord=1) / np.linalg.norm(vec, ord=np.inf)\n",
    "    all_norm_ratios.append(nr)\n",
    "    \n",
    "for vec in rand_0_vectors:\n",
    "    nr = np.linalg.norm(vec, ord=1) / np.linalg.norm(vec, ord=np.inf)\n",
    "    rand_norm_ratios.append(nr)\n",
    "    "
   ]
  },
  {
   "cell_type": "code",
   "execution_count": 144,
   "metadata": {
    "ExecuteTime": {
     "end_time": "2018-01-27T19:02:52.064135Z",
     "start_time": "2018-01-27T19:02:51.568424Z"
    }
   },
   "outputs": [
    {
     "data": {
      "text/plain": [
       "<matplotlib.text.Text at 0x12af634e0>"
      ]
     },
     "execution_count": 144,
     "metadata": {},
     "output_type": "execute_result"
    },
    {
     "data": {
      "image/png": "[encoded data removed]",
      "text/plain": [
       "<matplotlib.figure.Figure at 0x1297378d0>"
      ]
     },
     "metadata": {},
     "output_type": "display_data"
    }
   ],
   "source": [
    "plt.hist(all_norm_ratios, color='blue', bins=100);\n",
    "plt.hist(rand_norm_ratios, color='red', bins=100);\n",
    "plt.title('1 norm/ inf norm, principle vectors')"
   ]
  },
  {
   "cell_type": "markdown",
   "metadata": {},
   "source": [
    "https://arxiv.org/pdf/1401.5093.pdf"
   ]
  },
  {
   "cell_type": "markdown",
   "metadata": {},
   "source": [
    "### Compare Wigner circle to bleeding out (first 9)  eigenvectors"
   ]
  },
  {
   "cell_type": "code",
   "execution_count": 77,
   "metadata": {
    "ExecuteTime": {
     "end_time": "2018-01-27T06:27:37.190551Z",
     "start_time": "2018-01-27T06:27:37.185491Z"
    }
   },
   "outputs": [
    {
     "data": {
      "text/plain": [
       "([0.081078872,\n",
       "  0.080688864,\n",
       "  0.079592377,\n",
       "  0.077764332,\n",
       "  0.07740245,\n",
       "  0.076472238,\n",
       "  0.076432988,\n",
       "  0.075263366],\n",
       " 0.067543648)"
      ]
     },
     "execution_count": 77,
     "metadata": {},
     "output_type": "execute_result"
    }
   ],
   "source": [
    "all_singular_values[0:8], all_singular_values[9],"
   ]
  },
  {
   "cell_type": "code",
   "execution_count": 147,
   "metadata": {
    "ExecuteTime": {
     "end_time": "2018-01-27T19:03:08.330303Z",
     "start_time": "2018-01-27T19:03:08.326186Z"
    }
   },
   "outputs": [
    {
     "data": {
      "text/plain": [
       "75"
      ]
     },
     "execution_count": 147,
     "metadata": {},
     "output_type": "execute_result"
    }
   ],
   "source": [
    "len(all_0_vectors), len()"
   ]
  },
  {
   "cell_type": "code",
   "execution_count": 145,
   "metadata": {
    "ExecuteTime": {
     "end_time": "2018-01-27T19:02:59.325272Z",
     "start_time": "2018-01-27T19:02:59.319328Z"
    }
   },
   "outputs": [],
   "source": [
    "#wigner_norm_ratios = []\n",
    "bleeding_norm_ratios = []\n",
    "\n",
    "for vec in all_0_vectors:\n",
    "    nr = np.linalg.norm(vec, ord=1) / np.linalg.norm(vec, ord=np.inf)\n",
    "    bleeding_norm_ratios.append(nr)\n",
    "    \n"
   ]
  },
  {
   "cell_type": "code",
   "execution_count": 146,
   "metadata": {
    "ExecuteTime": {
     "end_time": "2018-01-27T19:03:00.587103Z",
     "start_time": "2018-01-27T19:03:00.319766Z"
    }
   },
   "outputs": [
    {
     "data": {
      "text/plain": [
       "<matplotlib.text.Text at 0x12c56ab00>"
      ]
     },
     "execution_count": 146,
     "metadata": {},
     "output_type": "execute_result"
    },
    {
     "data": {
      "image/png": "[encoded data removed]",
      "text/plain": [
       "<matplotlib.figure.Figure at 0x12af96d68>"
      ]
     },
     "metadata": {},
     "output_type": "display_data"
    }
   ],
   "source": [
    "plt.hist(bleeding_norm_ratios, color='red', bins=75, alpha=0.5);\n",
    "plt.title('1 norm/ inf norm of principle *bleeding vec')"
   ]
  },
  {
   "cell_type": "markdown",
   "metadata": {
    "ExecuteTime": {
     "end_time": "2018-01-27T06:42:45.455170Z",
     "start_time": "2018-01-27T06:42:45.451894Z"
    }
   },
   "source": [
    "### Plot singular value vs norm ratio"
   ]
  },
  {
   "cell_type": "code",
   "execution_count": 148,
   "metadata": {
    "ExecuteTime": {
     "end_time": "2018-01-27T19:03:19.125825Z",
     "start_time": "2018-01-27T19:03:18.649306Z"
    }
   },
   "outputs": [],
   "source": [
    "bleeding_norm_ratios = []\n",
    "wigner_norm_ratios = []\n",
    "for vec in all_bleeding_vectors:\n",
    "    nr = np.linalg.norm(vec, ord=1) / np.linalg.norm(vec, ord=np.inf)\n",
    "    bleeding_norm_ratios.append(nr)\n",
    "    \n",
    "for vec in all_wigner_vectors:\n",
    "    nr = np.linalg.norm(vec, ord=1) / np.linalg.norm(vec, ord=np.inf)\n",
    "    wigner_norm_ratios.append(nr)"
   ]
  },
  {
   "cell_type": "code",
   "execution_count": 153,
   "metadata": {
    "ExecuteTime": {
     "end_time": "2018-01-27T19:03:58.106516Z",
     "start_time": "2018-01-27T19:03:58.102605Z"
    }
   },
   "outputs": [
    {
     "data": {
      "text/plain": [
       "(675, 28050)"
      ]
     },
     "execution_count": 153,
     "metadata": {},
     "output_type": "execute_result"
    }
   ],
   "source": [
    "len(bleeding_norm_ratios), len(wigner_norm_ratios)"
   ]
  },
  {
   "cell_type": "code",
   "execution_count": 154,
   "metadata": {
    "ExecuteTime": {
     "end_time": "2018-01-27T19:04:00.280380Z",
     "start_time": "2018-01-27T19:04:00.013126Z"
    }
   },
   "outputs": [
    {
     "data": {
      "text/plain": [
       "<matplotlib.text.Text at 0x12ca50080>"
      ]
     },
     "execution_count": 154,
     "metadata": {},
     "output_type": "execute_result"
    },
    {
     "data": {
      "image/png": "[encoded data removed]",
      "text/plain": [
       "<matplotlib.figure.Figure at 0x129c6fd30>"
      ]
     },
     "metadata": {},
     "output_type": "display_data"
    }
   ],
   "source": [
    "plt.hist(bleeding_norm_ratios, color='red', bins=75, alpha=0.5);\n",
    "\n",
    "plt.title('1 norm/ inf norm of all  *bleeding vecs')"
   ]
  },
  {
   "cell_type": "code",
   "execution_count": null,
   "metadata": {
    "ExecuteTime": {
     "end_time": "2018-01-27T06:55:16.191360Z",
     "start_time": "2018-01-27T06:55:16.186053Z"
    }
   },
   "outputs": [],
   "source": []
  },
  {
   "cell_type": "code",
   "execution_count": 155,
   "metadata": {
    "ExecuteTime": {
     "end_time": "2018-01-27T19:04:01.830463Z",
     "start_time": "2018-01-27T19:04:01.548442Z"
    }
   },
   "outputs": [
    {
     "data": {
      "text/plain": [
       "<matplotlib.text.Text at 0x12ccec550>"
      ]
     },
     "execution_count": 155,
     "metadata": {},
     "output_type": "execute_result"
    },
    {
     "data": {
      "image/png": "[encoded data removed]",
      "text/plain": [
       "<matplotlib.figure.Figure at 0x12cadef98>"
      ]
     },
     "metadata": {},
     "output_type": "display_data"
    }
   ],
   "source": [
    "plt.hist(wigner_norm_ratios, color='blue', bins=75, alpha=0.5);\n",
    "plt.title('1 norm/ inf norm of all  wigner vecs')"
   ]
  },
  {
   "cell_type": "code",
   "execution_count": 151,
   "metadata": {
    "ExecuteTime": {
     "end_time": "2018-01-27T19:03:32.755536Z",
     "start_time": "2018-01-27T19:03:32.749305Z"
    }
   },
   "outputs": [
    {
     "data": {
      "text/plain": [
       "(83.180283, 97.775116)"
      ]
     },
     "execution_count": 151,
     "metadata": {},
     "output_type": "execute_result"
    }
   ],
   "source": [
    "np.mean(bleeding_norm_ratios), np.mean(wigner_norm_ratios)"
   ]
  },
  {
   "cell_type": "code",
   "execution_count": 156,
   "metadata": {
    "ExecuteTime": {
     "end_time": "2018-01-27T19:04:15.465794Z",
     "start_time": "2018-01-27T19:04:15.069482Z"
    }
   },
   "outputs": [
    {
     "data": {
      "text/plain": [
       "<matplotlib.text.Text at 0x12cecbcc0>"
      ]
     },
     "execution_count": 156,
     "metadata": {},
     "output_type": "execute_result"
    },
    {
     "data": {
      "image/png": "[encoded data removed]",
      "text/plain": [
       "<matplotlib.figure.Figure at 0x12cd27f60>"
      ]
     },
     "metadata": {},
     "output_type": "display_data"
    }
   ],
   "source": [
    "plt.hist(bleeding_norm_ratios, color='red', bins=75, alpha=0.5);\n",
    "plt.hist(wigner_norm_ratios, color='blue', bins=75, alpha=0.5);\n",
    "plt.title('1 norm/ inf norm of all  wigner vecs')"
   ]
  },
  {
   "cell_type": "code",
   "execution_count": null,
   "metadata": {},
   "outputs": [],
   "source": []
  },
  {
   "cell_type": "code",
   "execution_count": null,
   "metadata": {},
   "outputs": [],
   "source": []
  },
  {
   "cell_type": "code",
   "execution_count": null,
   "metadata": {},
   "outputs": [],
   "source": []
  }
 ],
 "metadata": {
  "kernelspec": {
   "display_name": "Python 3",
   "language": "python",
   "name": "python3"
  },
  "language_info": {
   "codemirror_mode": {
    "name": "ipython",
    "version": 3
   },
   "file_extension": ".py",
   "mimetype": "text/x-python",
   "name": "python",
   "nbconvert_exporter": "python",
   "pygments_lexer": "ipython3",
   "version": "3.6.0"
  }
 },
 "nbformat": 4,
 "nbformat_minor": 2
}
